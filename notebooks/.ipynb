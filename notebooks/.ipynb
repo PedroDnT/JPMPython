{
 "cells": [
  {
   "cell_type": "markdown",
   "metadata": {},
   "source": [
    "# Getting started with Jupyter"
   ]
  },
  {
   "cell_type": "markdown",
   "metadata": {},
   "source": [
    "Before getting into the code, what is Jupyter, why are we using it, and why python?\n",
    "\n",
    "Jupyter comes in three parts: a kernel, a webserver, and the notebook app. All code run will be sent to and run on the kernel. The web server will handle sending code & results between the kernel and the notebook. Last, but most importantly for us, the notebook app delivers the results of code executed on the server, allows for easy sharing of code, and a unified environment among **serveral** other things. For those of you who are interested, you can read more about what Juptyer is and the impact it's making [here from Project Jupyter](https://jupyter.org), [here from nature](https://www.nature.com/news/interactive-notebooks-sharing-the-code-1.16261), [here from O'Reilly](https://www.oreilly.com/ideas/what-is-jupyter), and [here from the Jupyter documentation](https://jupyter-notebook-beginner-guide.readthedocs.io/en/latest/what_is_jupyter.html). Note, Jupyter Notebooks **do not exclusively** run Python code.\n",
    "\n",
    "Unlike Jupyter, Python has been around for decades, but has grown in popularity [recently](https://bit.ly/2u1z6gh). As a result, several projects are being developed in python first and the python has a strong open source culture. \n",
    "\n",
    "Let's get into writing code. Most importantly, how do I execute code in a Jupyter notebook? (Ctrl + Enter)\n",
    "\n",
    "Let's try some simple operations. Each code input section below, e.g. [1], is referred to as a \"cell\"."
   ]
  },
  {
   "cell_type": "code",
   "execution_count": null,
   "metadata": {},
   "outputs": [],
   "source": [
    "a = 3\n",
    "b = 4\n",
    "a + b"
   ]
  },
  {
   "cell_type": "code",
   "execution_count": null,
   "metadata": {},
   "outputs": [],
   "source": [
    "a / b"
   ]
  },
  {
   "cell_type": "code",
   "execution_count": null,
   "metadata": {},
   "outputs": [],
   "source": [
    "a // b"
   ]
  },
  {
   "cell_type": "markdown",
   "metadata": {},
   "source": [
    "Notice there aren't any types that are defined like some other languages. We can see what type each object is hy simply calling `type` on it."
   ]
  },
  {
   "cell_type": "code",
   "execution_count": null,
   "metadata": {},
   "outputs": [],
   "source": [
    "print(type(a))\n",
    "print(type(b))"
   ]
  },
  {
   "cell_type": "code",
   "execution_count": null,
   "metadata": {},
   "outputs": [],
   "source": [
    "c = a / b\n",
    "type(c)"
   ]
  },
  {
   "cell_type": "code",
   "execution_count": null,
   "metadata": {},
   "outputs": [],
   "source": [
    "a = \"some string\"\n",
    "type(a)"
   ]
  },
  {
   "cell_type": "markdown",
   "metadata": {},
   "source": [
    "We can easily redefine `a` and run this cell again."
   ]
  },
  {
   "cell_type": "code",
   "execution_count": 1,
   "metadata": {},
   "outputs": [
    {
     "ename": "NameError",
     "evalue": "name 'b' is not defined",
     "output_type": "error",
     "traceback": [
      "\u001b[1;31m---------------------------------------------------------------------------\u001b[0m",
      "\u001b[1;31mNameError\u001b[0m                                 Traceback (most recent call last)",
      "\u001b[1;32m<ipython-input-1-712b3ad97557>\u001b[0m in \u001b[0;36m<module>\u001b[1;34m\u001b[0m\n\u001b[0;32m      1\u001b[0m \u001b[0ma\u001b[0m \u001b[1;33m=\u001b[0m \u001b[1;36m15\u001b[0m\u001b[1;33m\u001b[0m\u001b[1;33m\u001b[0m\u001b[0m\n\u001b[0;32m      2\u001b[0m \u001b[1;31m# a has been reset to 15\u001b[0m\u001b[1;33m\u001b[0m\u001b[1;33m\u001b[0m\u001b[1;33m\u001b[0m\u001b[0m\n\u001b[1;32m----> 3\u001b[1;33m \u001b[0ma\u001b[0m \u001b[1;33m+\u001b[0m \u001b[0mb\u001b[0m\u001b[1;33m\u001b[0m\u001b[1;33m\u001b[0m\u001b[0m\n\u001b[0m",
      "\u001b[1;31mNameError\u001b[0m: name 'b' is not defined"
     ]
    }
   ],
   "source": [
    "a = 15\n",
    "# a has been reset to 15\n",
    "a + b"
   ]
  },
  {
   "cell_type": "code",
   "execution_count": 2,
   "metadata": {},
   "outputs": [
    {
     "name": "stdout",
     "output_type": "stream",
     "text": [
      "Stored 'name' (str)\n"
     ]
    }
   ],
   "source": [
    "#There is also a store keyword which helps us to pass variables to different notebook eg->\n",
    "name = 'your name'\n",
    "%store name\n",
    "del name #name has been deleted from this notebook and now can be accessed in another notebook\n"
   ]
  },
  {
   "cell_type": "code",
   "execution_count": 5,
   "metadata": {},
   "outputs": [
    {
     "name": "stdout",
     "output_type": "stream",
     "text": [
      " Volume in drive C is OS\n",
      " Volume Serial Number is 6CA4-EB10\n",
      "\n",
      " Directory of C:\\Users\\DELL\\Desktop\\Insidesherpa\\JPMC-tech-task-4-py\\python-training\\notebooks\n",
      "\n",
      "21-06-2020  20:25    <DIR>          .\n",
      "21-06-2020  20:25    <DIR>          ..\n",
      "21-06-2020  20:16             7,863 .ipynb\n",
      "21-06-2020  20:21    <DIR>          .ipynb_checkpoints\n",
      "21-06-2020  20:01            20,146 0_best_practices.ipynb\n",
      "21-06-2020  20:25             5,203 1_basic.ipynb\n",
      "21-06-2020  20:01            20,365 2_straddle.ipynb\n",
      "21-06-2020  20:15             7,863 3_flights.ipynb\n",
      "21-06-2020  20:01             5,051 4_webapi.ipynb\n",
      "21-06-2020  20:01            72,193 5_website.ipynb\n",
      "21-06-2020  20:01               587 6_financial_data.ipynb\n",
      "21-06-2020  20:01            14,053 7_advanced_plotting.ipynb\n",
      "21-06-2020  20:01             6,235 8_altman_z_double_prime.ipynb\n",
      "21-06-2020  20:01             3,624 9_3d_plotting.ipynb\n",
      "21-06-2020  20:01             1,204 mandlebrot.py\n",
      "              12 File(s)        164,387 bytes\n",
      "               3 Dir(s)  357,856,182,272 bytes free\n"
     ]
    }
   ],
   "source": [
    "#we can also use unix shell commands/ windows commandline commands in jupyter notebook by using '!' sign\n",
    "\n",
    "!dir"
   ]
  },
  {
   "cell_type": "code",
   "execution_count": null,
   "metadata": {},
   "outputs": [],
   "source": []
  }
 ],
 "metadata": {
  "kernelspec": {
   "display_name": "Python 3",
   "language": "python",
   "name": "python3"
  },
  "language_info": {
   "codemirror_mode": {
    "name": "ipython",
    "version": 3
   },
   "file_extension": ".py",
   "mimetype": "text/x-python",
   "name": "python",
   "nbconvert_exporter": "python",
   "pygments_lexer": "ipython3",
   "version": "3.7.6"
  }
 },
 "nbformat": 4,
 "nbformat_minor": 4
}
