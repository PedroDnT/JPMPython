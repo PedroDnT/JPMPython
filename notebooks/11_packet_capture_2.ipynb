{
 "cells": [
  {
   "cell_type": "markdown",
   "id": "cd016d92-cd9f-4311-8731-19829b785266",
   "metadata": {},
   "source": [
    "# Packet Capture in Python Second Part"
   ]
  },
  {
   "cell_type": "code",
   "execution_count": 9,
   "id": "99d2f5c4-bf04-414a-8991-d28aa181bbaa",
   "metadata": {},
   "outputs": [
    {
     "name": "stdout",
     "output_type": "stream",
     "text": [
      "Requirement already satisfied: requests in /Library/Frameworks/Python.framework/Versions/3.6/lib/python3.6/site-packages (2.25.1)\n",
      "Requirement already satisfied: chardet<5,>=3.0.2 in /Library/Frameworks/Python.framework/Versions/3.6/lib/python3.6/site-packages (from requests) (3.0.4)\n",
      "Requirement already satisfied: urllib3<1.27,>=1.21.1 in /Library/Frameworks/Python.framework/Versions/3.6/lib/python3.6/site-packages (from requests) (1.26.12)\n",
      "Requirement already satisfied: idna<3,>=2.5 in /Library/Frameworks/Python.framework/Versions/3.6/lib/python3.6/site-packages (from requests) (2.10)\n",
      "Requirement already satisfied: certifi>=2017.4.17 in /Library/Frameworks/Python.framework/Versions/3.6/lib/python3.6/site-packages (from requests) (2022.9.24)\n",
      "Collecting bs4\n",
      "  Downloading bs4-0.0.1.tar.gz (1.1 kB)\n",
      "  Preparing metadata (setup.py) ... \u001b[?25ldone\n",
      "\u001b[?25hCollecting beautifulsoup4\n",
      "  Using cached beautifulsoup4-4.11.1-py3-none-any.whl (128 kB)\n",
      "Collecting soupsieve>1.2\n",
      "  Using cached soupsieve-2.3.2.post1-py3-none-any.whl (37 kB)\n",
      "Building wheels for collected packages: bs4\n",
      "  Building wheel for bs4 (setup.py) ... \u001b[?25ldone\n",
      "\u001b[?25h  Created wheel for bs4: filename=bs4-0.0.1-py3-none-any.whl size=1272 sha256=f27ea93cb311f482b646b4c1f6da0763c21d3c48e68ab40d331a548fd2fb15c8\n",
      "  Stored in directory: /Users/xiaocheng/Library/Caches/pip/wheels/19/f5/6d/a97dd4f22376d4472d5f4c76c7646876052ff3166b3cf71050\n",
      "Successfully built bs4\n",
      "Installing collected packages: soupsieve, beautifulsoup4, bs4\n",
      "Successfully installed beautifulsoup4-4.11.1 bs4-0.0.1 soupsieve-2.3.2.post1\n"
     ]
    }
   ],
   "source": [
    "!pip install requests\n",
    "!pip install bs4\n",
    "import urllib\n",
    "import requests\n",
    "from bs4 import BeautifulSoup"
   ]
  },
  {
   "cell_type": "code",
   "execution_count": 10,
   "id": "ec0f4c49-827d-41ee-9f19-f81fea63acf4",
   "metadata": {},
   "outputs": [],
   "source": [
    "query = \"How To Packet Capture Google With Python\"\n",
    "query = query.replace(' ', '+')\n",
    "URL = f\"https://google.com/search?q={query}\""
   ]
  },
  {
   "cell_type": "code",
   "execution_count": 15,
   "id": "9eda2aee-bc51-41a4-b3e7-313bfa2d2cab",
   "metadata": {},
   "outputs": [],
   "source": [
    "headers = {\"user-agent\" : MOBILE_USER_AGENT}\n",
    "resp = requests.get(URL, headers=headers)"
   ]
  },
  {
   "cell_type": "code",
   "execution_count": 16,
   "id": "66ddc621-579b-4e79-9304-afa026ab9c0e",
   "metadata": {},
   "outputs": [],
   "source": [
    "if resp.status_code == 200:\n",
    "    soup = BeautifulSoup(resp.content, \"html.parser\")"
   ]
  },
  {
   "cell_type": "code",
   "execution_count": null,
   "id": "46638425-62ce-4559-9a83-0edffa16331a",
   "metadata": {},
   "outputs": [],
   "source": [
    "results = []\n",
    "for g in soup.find_all('div', class_='r'):\n",
    "    anchors = g.find_all('a')\n",
    "    if anchors:\n",
    "        link = anchors[0]['href']\n",
    "        title = g.find('h3').text\n",
    "        item = {\n",
    "            \"title\": title,\n",
    "            \"link\": link\n",
    "        }\n",
    "        results.append(item)\n",
    "print(results)"
   ]
  }
 ],
 "metadata": {
  "kernelspec": {
   "display_name": "Python 3",
   "language": "python",
   "name": "python3"
  },
  "language_info": {
   "codemirror_mode": {
    "name": "ipython",
    "version": 3
   },
   "file_extension": ".py",
   "mimetype": "text/x-python",
   "name": "python",
   "nbconvert_exporter": "python",
   "pygments_lexer": "ipython3",
   "version": "3.6.8"
  }
 },
 "nbformat": 4,
 "nbformat_minor": 5
}
