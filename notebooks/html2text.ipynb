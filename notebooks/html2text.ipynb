{
 "cells": [
  {
   "cell_type": "markdown",
   "metadata": {},
   "source": [
    "# html2Text"
   ]
  },
  {
   "cell_type": "markdown",
   "metadata": {},
   "source": [
    "# ABOUT\n",
    "1.html2text is a Python script that converts a page of HTML into clean, easy-to-read plain ASCII text."
   ]
  },
  {
   "cell_type": "markdown",
   "metadata": {},
   "source": [
    "# WORKING\n",
    "3.Each HTML document is loaded from a location indicated by a URI or read from standard input, and formatted into a stream of plain text characters that is written to standard output or into an output-file. The input-URI may specify a remote site, from that the documents are loaded via the Hypertext Transfer Protocol (HTTP)."
   ]
  },
  {
   "cell_type": "markdown",
   "metadata": {
    "slideshow": {
     "slide_type": "slide"
    }
   },
   "source": [
    "# ADVANTAGES of html2text over other web scrapping tools\n",
    "1.The program is able to preserve the original positions of table fields\n",
    "2.Allows you to set the screen width (to a given number of output characters), and accepts also syntactically incorrect input (attempting to interpret it \"reasonably\").\n",
    "3.Boldface and underlined text is rendered by default with backspace sequences (which is particulary usefull when piping the program's output into \"less\" or an other pager).\n",
    "4.All rendering properties can largely be costomised trough an RC-file."
   ]
  },
  {
   "cell_type": "markdown",
   "metadata": {},
   "source": [
    "# INSTALLING\n",
    "1.html2text is available on pypi https://pypi.org/project/html2text/\n",
    "2.Using terminal-$ pip install html2text"
   ]
  },
  {
   "cell_type": "markdown",
   "metadata": {},
   "source": [
    "# EXAMPLES"
   ]
  },
  {
   "cell_type": "markdown",
   "metadata": {},
   "source": [
    "# INPUT-HTML CODE"
   ]
  },
  {
   "cell_type": "code",
   "execution_count": 2,
   "metadata": {},
   "outputs": [
    {
     "name": "stdout",
     "output_type": "stream",
     "text": [
      "Hello World\n",
      "\n",
      "  * Here's one thing\n",
      "  * And here's another!\n",
      "\n",
      "\n"
     ]
    }
   ],
   "source": [
    "import html2text\n",
    "print (html2text.html2text('''<html><body><p>Hello World</p>\n",
    "<ul><li>Here's one thing</li>\n",
    "<li>And here's another!</li></ul></body></html>'''))"
   ]
  },
  {
   "cell_type": "markdown",
   "metadata": {},
   "source": [
    "# INPUT-HTML FILE"
   ]
  },
  {
   "cell_type": "code",
   "execution_count": 9,
   "metadata": {},
   "outputs": [
    {
     "data": {
      "text/plain": [
       "'  * MESSAGES\\n\\nYou have no [notifications](/Special:Notifications \"Special:Notifications\") at\\nthis time.\\n\\n  * LOG IN\\n\\n### Log in\\n\\nFacebookLoading...\\n\\nGoogleLoading...\\n\\nCivicLoading...\\n\\n[wikiHow Account](/Special:UserLogin?type=login&returnto=Detect-Hidden-\\nCameras-and-Microphones)\\n\\nNo account yet? [Create an\\naccount](/Special:UserLogin?type=signup&returnto=Detect-Hidden-Cameras-and-\\nMicrophones)\\n\\n  * EXPLORE\\n\\n[Community Dashboard](/Special:CommunityDashboard) [Random\\nArticle](/Special:Randomizer) [About Us](/wikiHow:About-wikiHow)\\n[Categories](/Special:CategoryListing)\\n\\n  * HELP US\\n\\n[Write an Article](/Special:CreatePage) [Request a New\\nArticle](/Special:RequestTopic) [More Ideas...](/Special:CommunityDashboard)\\n\\n  * EDIT\\n\\n[Edit this Article](/index.php?title=Detect-Hidden-Cameras-and-\\nMicrophones&action=edit)\\n\\n[![wikiHow\\nlogo](https://www.wikihow.com/skins/owl/images/wikihow_logo.png)](/Main-Page)\\n\\nWe use cookies to make wikiHow great. By using our site, you agree to our\\n[cookie policy](/wikiHow:Cookie-Policy \"wikiHow:Cookie Policy\").\\n\\nOkay\\n\\n✖\\n\\n  * [Home](/Main-Page \"Main Page\")\\n  * [Categories](/Special:CategoryListing \"Special:CategoryListing\")\\n  * [Computers and Electronics](/Category:Computers-and-Electronics \"Category:Computers and Electronics\")\\n\\n  * [Article](https://www.wikihow.com/Detect-Hidden-Cameras-and-Microphones)\\n  * [Edit](/index.php?title=Detect-Hidden-Cameras-and-Microphones&action=edit)\\n\\n[Learn why people **trust wikiHow**](/wikiHow:Delivering-a-Trustworthy-\\nExperience)\\n\\n# [How to Detect Hidden Cameras and\\nMicrophones](https://www.wikihow.com/Detect-Hidden-Cameras-and-Microphones)\\n\\nCo-authored by wikiHow Staff | Reader-Approved | 11 References\\n\\nUpdated: October 22, 2019\\n\\nExplore this Article Conducting a Physical Search Searching for Electrical\\nSignals Article Summary Questions & Answers Related Articles\\n\\nThis article was co-authored by our trained team of editors and researchers\\nwho validated it for accuracy and comprehensiveness. Together, they cited\\ninformation from 11 references. wikiHow\\'s [Content Management\\nTeam](/Special:ArticleReviewers#wikihow%20content%20team%20managers) carefully\\nmonitors the work from our editorial staff to ensure that each article meets\\nour high standards.  \\n  \\nwikiHow marks an article as reader-approved once it receives enough positive\\nfeedback. This article has over 2,163,234 views, and 88% of readers who voted\\nfound it helpful. It also received 24 testimonials from readers, earning it\\nour reader-approved status. [Learn more...](/wikiHow:Delivering-a-Trustworthy-\\nExperience)\\n\\nMicrophones and cameras can be hidden in all sorts of places to spy on\\nunsuspecting people. It is illegal in most places for someone to record you\\nwithout proper notice, but that doesn\\'t always mean that you\\'re not being\\nrecorded. If you feel like you’re being recorded, conduct a thorough physical\\nsearch and use the technology available to you to detect hidden cameras and\\nmicrophones.\\n\\n##  Steps\\n\\n###\\n\\nMethod 1\\n\\nConducting a Physical Search\\n\\n  1. ![Image titled Detect Hidden Cameras and Microphones Step 1](https://www.wikihow.com/images/thumb/9/92/Detect-Hidden-Cameras-and-Microphones-Step-1-Version-2.jpg/aid230470-v4-728px-Detect-Hidden-Cameras-and-Microphones-Step-1-Version-2.jpg)\\n\\n1\\n\\n**Listen for a quiet buzzing or clicking noise to detect a recording device.**\\nHidden cameras are designed to be as discrete as possible, but many will still\\nemit a slight sound when they are working. When the area of suspected\\nsurveillance is as quiet as possible, walk around slowly to listen out for any\\nbuzzing or slight clicking noises that might be coming from a hidden\\ncamera.[1]\\n\\n    * Try searching the room late at night to reduce the ambient sound in the room. This will make isolating and locating any noises much easier.\\n    * There are plenty of different mechanical and electrical devices that can make quiet buzzing and clicking noises. Combine this method with other ways of identifying hidden cameras and microphones to differentiate between malicious and ordinary items.\\n\\n  2. ![Image titled Detect Hidden Cameras and Microphones Step 2](https://www.wikihow.com/images/thumb/5/57/Detect-Hidden-Cameras-and-Microphones-Step-2-Version-2.jpg/aid230470-v4-728px-Detect-Hidden-Cameras-and-Microphones-Step-2-Version-2.jpg)\\n\\n2\\n\\n**Investigate your smoke detectors and other electronics.** Surveillance\\ndevices can be hidden inside other devices that require electricity, such as\\nsmoke detectors. Take your smoke detector down from the ceiling and look for a\\nmicrophone or camera inside. Check your speakers, lamps, and other electronics\\nfor signs of tampering that may indicate someone added a microphone.[2]\\n\\n    * Smoke detectors are a perfect place for microphones to be hidden as they have built-in power and are normally centralized in a room.\\n    * Microphones or cameras hidden inside smoke detectors or other electronics will usually be easily visible. Look for anything that doesn\\'t seem to be attached to the rest of the device, or anything that looks like a microphone or camera.\\n\\n  3. ![Image titled Detect Hidden Cameras and Microphones Step 3](https://www.wikihow.com/images/thumb/3/34/Detect-Hidden-Cameras-and-Microphones-Step-3-Version-2.jpg/aid230470-v4-728px-Detect-Hidden-Cameras-and-Microphones-Step-3-Version-2.jpg)\\n\\n3\\n\\n**Look for decorations that seem strange or out of place.** One of the most\\ncommon ways of hiding a microphone or camera in a room is by hiding it in\\nsomething inconspicuous, such as a teddy bear or a vase of flowers. Look\\naround the room for any decorations that seem like they don’t fit with the\\nrest of the space, or that are angled in peculiar ways.[3]\\n\\n    * While most of a camera can be hidden inside something else, the lens will almost always need to be completely visible for the camera to work. Check your suspicious decorations for glassy surfaces or visible lenses that might indicate a hidden camera.\\n    * The most effective cameras will be positioned so that they can see as much of the room as possible. Look for decorations on the edges of the room that are angled awkwardly to face into the room.\\n    * Hidden microphones will work best when they’re in the center of a room, so they can hear everything equally. Look for decorations positioned on a table in the middle of your room to find hidden microphones.\\n\\n  4. ![Image titled Detect Hidden Cameras and Microphones Step 4](https://www.wikihow.com/images/thumb/1/19/Detect-Hidden-Cameras-and-Microphones-Step-4-Version-2.jpg/aid230470-v4-728px-Detect-Hidden-Cameras-and-Microphones-Step-4-Version-2.jpg)\\n\\n4\\n\\n**Check for peculiar wires or wires that don’t lead anywhere.** While some\\nshort-term surveillance devices might be battery-powered, most hidden cameras\\nand microphones will need some sort of power supply. Look around your\\nelectronics and power outlets for wires leading into anything that doesn’t\\nneed power, or wires that you don’t recognize.[4]\\n\\n    * If you find an unfamiliar wire and can’t work out what it is powering, you should unplug it immediately.\\n\\n  5. ![Image titled Detect Hidden Cameras and Microphones Step 5](https://www.wikihow.com/images/thumb/1/10/Detect-Hidden-Cameras-and-Microphones-Step-5-Version-2.jpg/aid230470-v4-728px-Detect-Hidden-Cameras-and-Microphones-Step-5-Version-2.jpg)\\n\\n5\\n\\n**Build a[ **hidden camera detector**](/Build-a-Hidden-Camera-Detector \"Build\\na Hidden Camera Detector\") to find well-hidden devices.** A hidden camera\\ndetector will make it easier to detect pinhole cameras hidden in walls or\\nobjects. Place an empty toilet paper tube over one eye and hold a flashlight\\nin front of the other. Turn off the lights, turn on the flashlight, and look\\naround the room slowly for small glimmers of light.[5]\\n\\n    * The light will reflect off of the charge coupled device or lens on the camera, making it easier to notice.\\n    * Once you identify a glimmer, take a closer look at the object to see if it might be a camera. Some reflective objects will let off a glimmer without it meaning they’re hiding a camera.\\n    * Some cameras might also have small LED lights that will activate in the dark. These should also be easily visible through a hidden camera detector.\\n\\n  6. ![Image titled Detect Hidden Cameras and Microphones Step 6](https://www.wikihow.com/images/thumb/a/ac/Detect-Hidden-Cameras-and-Microphones-Step-6-Version-2.jpg/aid230470-v4-728px-Detect-Hidden-Cameras-and-Microphones-Step-6-Version-2.jpg)\\n\\n6\\n\\n**Look around light fixtures and the battery in your vehicle.** Cameras and\\nmicrophones can be hidden in your car to record or track you. Check inside any\\nlight fixtures or around your vehicle\\'s battery for any unfamiliar wires or\\ndevices. Use a flashlight to look under your car, checking for anything that\\nseems to be stuck onto the vehicle rather than part of it.[6]\\n\\n    * It\\'s rare for there to be wires coming off of the contact points on your battery. Carefully investigate any strange wires, avoiding coming in contact with the battery where you can.\\n    * The only device inside your light fixture should be the lightbulb itself. It may also help to take a look inside and around the lightbulb to see if the bulb itself is bugged.\\n    * All of the methods used for detecting hidden cameras and microphones in your home will also work when looking for them in your car.\\n\\n  7. ![Image titled Detect Hidden Cameras and Microphones Step 7](https://www.wikihow.com/images/thumb/4/41/Detect-Hidden-Cameras-and-Microphones-Step-7-Version-2.jpg/aid230470-v4-728px-Detect-Hidden-Cameras-and-Microphones-Step-7-Version-2.jpg)\\n\\n7\\n\\n**Use a flashlight to[ **check for two-way mirrors**](/Tell-if-a-Mirror-Is-\\nTwo-Way-or-Not \"Tell if a Mirror Is Two Way or Not\").** Two-way mirrors look\\nlike a mirror on one side and a window from the other, which makes them\\nperfect for hiding cameras. If you suspect a mirror is two-way, turn off the\\nlights in the room and press a flashlight against the glass. If it’s a two-way\\nmirror, you’ll be able to see the room on the other side.[7]\\n\\n    * Try lifting the mirror off of the wall. Two-way mirrors have to be installed in the wall or bolted to it, where regular mirrors might just be hung on a hook.\\n    * Another way to detect a two-way mirror is by tapping on it. A regular mirror will produce a dull, flat sound, whereas a two-way mirror will sound sharper, open, or hollow due to the room behind it.\\n    * If you suspect you have a two-way mirror, the easiest way to deal with it is to cover it up with a sheet, some paper, or even by hanging another mirror over it.\\n\\n###\\n\\nMethod 2\\n\\nSearching for Electrical Signals\\n\\n  1. ![Image titled Detect Hidden Cameras and Microphones Step 8](https://www.wikihow.com/images/thumb/8/88/Detect-Hidden-Cameras-and-Microphones-Step-8.jpg/aid230470-v4-728px-Detect-Hidden-Cameras-and-Microphones-Step-8.jpg)\\n\\n1\\n\\n**Sweep the area with an RF detector.** RF detectors allow you to scan for\\nradio frequencies used to transmit from hidden cameras and microphones.\\nPurchase an RF detector online or from your local electronics store and wave\\nit around the area you think is bugged. The detector will give off a small\\nbeeping or crackling sound when pointed at an item giving off radio\\nfrequencies.[8]\\n\\n    * You’ll need to turn off any other devices that broadcast radio signals in order for the RF detector to work.\\n    * Check the manufacturer’s guidelines for more information on how to use your RF detector.\\n    * When the RF detector beeps or crackles, look around the area to find the hidden surveillance device.\\n\\n  2. ![Image titled Detect Hidden Cameras and Microphones Step 9](https://www.wikihow.com/images/thumb/0/08/Detect-Hidden-Cameras-and-Microphones-Step-9.jpg/aid230470-v4-728px-Detect-Hidden-Cameras-and-Microphones-Step-9.jpg)\\n\\n2\\n\\n**Listen for interference when making a call.** Many hidden cameras and\\nmicrophones will make a small electromagnetic field as they transmit data.\\nMake a call on your cellphone and walk around the room while you talk. If you\\nhear any crackling, clicking, or buzzing on the phone, it might be a sign that\\nyou’re entering the field of a surveillance device.[9]\\n\\n    * Move your phone around the are where you think the hidden camera or microphone is to get a better sense of its exact location. The buzzing, clicking, and crackling should get louder on the phone as you get closer to the device.\\n    * There are many other devices, such as speakers, television sets, and radios that might create small electromagnetic fields as well. Turn these off when searching for hidden devices.\\n    * You can perform a similar check with an AM/FM radio. Place the radio near the location where the microphone is hidden and turn the dial, listening for any strange interference or static.\\n\\n  3. ![Image titled Detect Hidden Cameras and Microphones Step 10](https://www.wikihow.com/images/thumb/e/ee/Detect-Hidden-Cameras-and-Microphones-Step-10.jpg/aid230470-v4-728px-Detect-Hidden-Cameras-and-Microphones-Step-10.jpg)\\n\\n3\\n\\n**Use a digital or smartphone camera to look for infrared lights.** Most\\nsmartphone and digital cameras can see infrared light that isn’t visible to\\nthe human eye, and which can be used by hidden cameras. Scan your camera\\naround the room and look through the display for any unexpected light sources\\nor flashes, which might point to a hidden camera.[10]\\n\\n    * You can check if your camera can detect infrared light by pointing a TV remote at it and pressing a button. You should see a small flicker of light on the end of the TV remote from the infrared light.\\n\\n  4. ![Image titled Detect Hidden Cameras and Microphones Step 11](https://www.wikihow.com/images/thumb/0/01/Detect-Hidden-Cameras-and-Microphones-Step-11.jpg/aid230470-v4-728px-Detect-Hidden-Cameras-and-Microphones-Step-11.jpg)\\n\\n4\\n\\n**Look for strange Wi-Fi signals on your phone or computer.** Some modern\\ncameras and microphones will transmit data over the internet, meaning they can\\nbe accessed from almost anywhere. However, they’ll often also have Wi-Fi\\nsignals. Search for available Wi-Fi signals on your phone or laptop and look\\nfor any that seem unexpected or suspicious.[11]\\n\\n    * The default Wi-Fi name for a lot of hidden cameras will be the product code for the device. Search for any unknown Wi-Fi names online to see what kind of device they belong to.\\n    * As well as peculiar Wi-Fi names, you can look for Wi-Fi signals that are stronger than you anticipated. A strong signal normally indicates that the device is nearby.\\n    * If you have access to the wireless router, you may be able to log in and see which devices are connected to your network. Remove access to any devices you didn’t set up to keep your network secure.\\n\\n##\\n\\nCommunity Q&A\\n\\nSearch\\n\\nAdd New Question\\n\\n  * Question\\n\\nIs it possible for people to watch me from their phones?\\n\\nCommunity Answer\\n\\nYes, they could be watching/recording you from the camera app in their phone.\\n\\nThanks!\\n\\nYes No\\n\\nNot Helpful 82 Helpful 467\\n\\n  * Question\\n\\nMy landlord at random times insists on changing the air filter. I have told\\nhim I can do it; he says he just likes doing it. Also, every phone\\nconversation I have on my cell phone is interrupted by a strange loud sound.\\nHe\\'s also been caught snooping a few times. What can I do?\\n\\nCommunity Answer\\n\\nMost landlords are required to give you 24 hours notice before entering your\\npremises, unless it\\'s an emergency (check your lease). You have the right to\\nprivacy against snooping; contact the authorities when this happens. For a\\nlist of tenant rights, check your city government\\'s website.\\n\\nThanks!\\n\\nYes No\\n\\nNot Helpful 50 Helpful 299\\n\\n  * Question\\n\\nIs it possible to have a hidden microphone/camera hidden in a couch?\\n\\nCommunity Answer\\n\\nYes, hidden cameras and microphones are available in such small sizes that\\nthey are able to be planted just about anywhere.\\n\\nThanks!\\n\\nYes No\\n\\nNot Helpful 42 Helpful 209\\n\\n  * Question\\n\\nIf there is a hidden camera connected to my WiFi, can I see it when logged\\ninto my WiFi?\\n\\nCommunity Answer\\n\\nMost routers, when logged into the administrator account, will display a list\\nof connected wireless devices.\\n\\nThanks!\\n\\nYes No\\n\\nNot Helpful 67 Helpful 300\\n\\n  * Question\\n\\nCan cameras in TVs be used to watch someone?\\n\\nCommunity Answer\\n\\nIf a device is wireless connected to the same signal, the camera can be\\nactivated from the TV, transmitting the live broadcast from that camera.\\n\\nThanks!\\n\\nYes No\\n\\nNot Helpful 87 Helpful 367\\n\\n  * Question\\n\\nIs it illegal for my boyfriend to secretly videotaped me when we are having\\nintercourse?\\n\\nCommunity Answer\\n\\nYes. If your boyfriend secretly taped you during intercourse, ask him to\\ndelete any footage and reconsider your relationship.\\n\\nThanks!\\n\\nYes No\\n\\nNot Helpful 84 Helpful 361\\n\\n  * Question\\n\\nI am in a rental home. How do I remove and/or confirm what I found in my smoke\\ndetector is a camera? I don\\'t want get hurt since it\\'s hooked up to the house\\nwiring.\\n\\nCommunity Answer\\n\\nIf it is a normal smoke tied to the house wiring, it should be easy to remove,\\nthe wiring just plugs in the back so you can always replace the smoke when\\nneeded. If it is actually a camera, it will be hard wired to the back where\\nyou can not easily remove it. (No plug.) You should then ask your landlord why\\nthey have breached your privacy and talk to the police as well.\\n\\nThanks!\\n\\nYes No\\n\\nNot Helpful 71 Helpful 281\\n\\n  * Question\\n\\nHow can I tell if my Android smartphone has been taken over by someone?\\n\\nCommunity Answer\\n\\nCan it hold a charge? Does it do what you tell it to? Do you ever see a file\\ndownloading that you didn\\'t want? If it can\\'t hold a charge, doesn\\'t listen to\\nyou, and randomly downloads files, it likely that it was hacked.\\n\\nThanks!\\n\\nYes No\\n\\nNot Helpful 9 Helpful 59\\n\\n  * Question\\n\\nAre squeaky or buzzing sounds possible signs of hidden cameras or microphones?\\n\\nCommunity Answer\\n\\nIt\\'s possible, but some cameras work via cable and power from an external\\nadapter and record on a remote DVR. Wireless cameras may emit the sound.\\n\\nThanks!\\n\\nYes No\\n\\nNot Helpful 54 Helpful 206\\n\\n  * Question\\n\\nShould I be able to see a hidden camera that is connected to my Wi-Fi?\\n\\nCommunity Answer\\n\\nYes. To do this, go to the router\\'s direct IP in your browser - commonly\\n192.168.0.1, but not guaranteed. You will see all connected devices.\\n\\nThanks!\\n\\nYes No\\n\\nNot Helpful 66 Helpful 263\\n\\nShow more answers\\n\\nAsk a Question\\n\\n200 characters left\\n\\nInclude your email address to get a message when this question is answered.\\n\\nSubmit\\n\\n  * Already answered\\n  * Not a question\\n  * Bad question\\n  * Other\\n\\n##  Tips\\n\\n  * If you find any hidden surveillance devices that are watching and/or listening to you without your consent, call the authorities immediately.\\n  * Avoid touching or disturbing any hidden devices you find until you talk to the authorities.\\n  * There are some apps that purport that they are able to detect hidden cameras and microphones. However, most of these have to be purchased and have very low reviews, suggesting that they don\\'t work particularly well.\\n  * A hidden camera will usually be dark in color to help it blend into its surroundings. It may have a light on the front or side to indicate that it is operating, but it will always have an exposed glass or plastic camera lens somewhere on the front.\\n  * A hidden microphone will usually be a small, black shape that can be tucked into tiny areas. Look for a wire coming off of it, either leading to something else or working as an antenna. There may be a small hole in the center of the housing to let the microphone record more easily.\\n\\n## Related wikiHows\\n\\n[ ![](https://www.wikihow.com/images/thumb/7/73/Spy-on-People-\\nStep-23.jpg/-crop-342-184-245px-Spy-on-People-Step-23.jpg)](/Spy-on-People)\\n\\n[\\n\\nHow to\\n\\nSpy on People](/Spy-on-People)\\n\\n[ ![](https://www.wikihow.com/images/thumb/f/f9/Spy-on-Neighbors-\\nStep-11-Version-2.jpg/-crop-342-184-245px-Spy-on-Neighbors-\\nStep-11-Version-2.jpg)](/Spy-on-Neighbors)\\n\\n[\\n\\nHow to\\n\\nSpy on Neighbors](/Spy-on-Neighbors)\\n\\n[ ![](https://www.wikihow.com/images/thumb/1/19/Play-James-Bond-\\nStep-11.jpg/-crop-342-184-245px-Play-James-Bond-Step-11.jpg)](/Play-James-\\nBond)\\n\\n[\\n\\nHow to\\n\\nPlay James Bond](/Play-James-Bond)\\n\\n[ ![](https://www.wikihow.com/images/thumb/0/0d/Spy-on-Your-Man-\\nStep-12.jpg/-crop-342-184-245px-Spy-on-Your-Man-Step-12.jpg)](/Spy-on-Your-\\nMan)\\n\\n[\\n\\nHow to\\n\\nSpy on Your Man](/Spy-on-Your-Man)\\n\\n[ ![](https://www.wikihow.com/images/thumb/4/4d/Make-a-Grappling-Hook-\\nStep-22.jpg/-crop-342-184-245px-Make-a-Grappling-Hook-Step-22.jpg)](/Make-a-\\nGrappling-Hook)\\n\\n[\\n\\nHow to\\n\\nMake a Grappling Hook](/Make-a-Grappling-Hook)\\n\\n[ ![](https://www.wikihow.com/images/thumb/1/1e/Use-Footprints-in-Detecting-\\nStep-8.jpg/-crop-342-184-245px-Use-Footprints-in-Detecting-Step-8.jpg)](/Use-\\nFootprints-in-Detecting)\\n\\n[\\n\\nHow to\\n\\nUse Footprints in Detecting](/Use-Footprints-in-Detecting)\\n\\n##  References\\n\\n  1. ↑ <https://www.wired.com/story/how-to-sweep-for-bugs/>\\n  2. ↑ <https://makezine.com/2018/06/29/detect-hidden-cameras/>\\n  3. ↑ <https://makezine.com/2018/06/29/detect-hidden-cameras/>\\n  4. ↑ <https://www.wired.com/story/how-to-sweep-for-bugs/>\\n  5. ↑ <https://youtu.be/vtLguXvhyzU?t=2>\\n  6. ↑ <https://www.expertsecuritytips.com/detect-tracking-device-car/>\\n  7. ↑ <https://www.snopes.com/fact-check/spot-two-way-mirror/>\\n  8. ↑ <https://www.wired.com/story/how-to-sweep-for-bugs/>\\n  9. ↑ <https://www.wired.com/story/how-to-sweep-for-bugs/>\\n  10. ↑ <https://makezine.com/2018/06/29/detect-hidden-cameras/>\\n  11. ↑ <https://www.wired.com/story/how-to-sweep-for-bugs/>\\n\\nShow more... (2)\\n\\n## Article SummaryX\\n\\nTo detect hidden cameras and microphones, listen carefully for buzzing or\\nclicking sounds since hidden cameras often produce faint noises. Also, inspect\\nany smoke detectors and electronics in the room since people often hide\\ncameras and microphones in devices that require electricity. Alternatively,\\nyou can turn off all the lights, hold an empty toilet paper roll over your\\neye, and shine a flashlight around the room to see if anything glimmers. If it\\ndoes, inspect it closely to see if it\\'s a recording device. To learn how to\\nsearch for electrical signals in a room, scroll down!\\n\\nDid this summary help you?YesNo\\n\\n## Article Info\\n\\nThis article was co-authored by our trained team of editors and researchers\\nwho validated it for accuracy and comprehensiveness. Together, they cited\\ninformation from 11 references. wikiHow\\'s [Content Management\\nTeam](/Special:ArticleReviewers#wikihow%20content%20team%20managers) carefully\\nmonitors the work from our editorial staff to ensure that each article meets\\nour high standards.\\n\\nCategories: [Spying](/Category:Spying \"Category:Spying\") | [Technology and\\nPrivacy](/Category:Technology-and-Privacy \"Category:Technology and Privacy\")\\n\\nIn other languages:\\n\\nFrançais: [détecter des caméras et des microphones\\ncachés](https://fr.wikihow.com/d%C3%A9tecter-des-cam%C3%A9ras-et-des-\\nmicrophones-cach%C3%A9s), Italiano: [Individuare Telecamere e Microfoni\\nNascosti](https://www.wikihow.it/Individuare-Telecamere-e-Microfoni-Nascosti),\\nEspañol: [detectar cámara y micrófonos\\nescondidos](https://es.wikihow.com/detectar-c%C3%A1mara-y-micr%C3%B3fonos-\\nescondidos), Deutsch: [Versteckte Kameras\\nentdecken](https://de.wikihow.com/Versteckte-Kameras-entdecken), Português:\\n[Detectar Câmeras e Microfones\\nEscondidos](https://pt.wikihow.com/Detectar-C%C3%A2meras-e-Microfones-\\nEscondidos), Русский: [обнаружить спрятанные камеры и\\nмикрофоны](https://ru.wikihow.com/%D0%BE%D0%B1%D0%BD%D0%B0%D1%80%D1%83%D0%B6%D0%B8%D1%82%D1%8C-%D1%81%D0%BF%D1%80%D1%8F%D1%82%D0%B0%D0%BD%D0%BD%D1%8B%D0%B5-%D0%BA%D0%B0%D0%BC%D0%B5%D1%80%D1%8B-%D0%B8-%D0%BC%D0%B8%D0%BA%D1%80%D0%BE%D1%84%D0%BE%D0%BD%D1%8B),\\nNederlands: [Verborgen camera\\'s en microfoons\\nontdekken](https://nl.wikihow.com/Verborgen-camera%27s-en-microfoons-\\nontdekken), Bahasa Indonesia: [Mendeteksi Kamera dan Mikrofon\\nTersembunyi](https://id.wikihow.com/Mendeteksi-Kamera-dan-Mikrofon-\\nTersembunyi), العربية: [الكشف عن الكاميرات والميكروفونات\\nالخفية](https://ar.wikihow.com/%D8%A7%D9%84%D9%83%D8%B4%D9%81-%D8%B9%D9%86-%D8%A7%D9%84%D9%83%D8%A7%D9%85%D9%8A%D8%B1%D8%A7%D8%AA-%D9%88%D8%A7%D9%84%D9%85%D9%8A%D9%83%D8%B1%D9%88%D9%81%D9%88%D9%86%D8%A7%D8%AA-%D8%A7%D9%84%D8%AE%D9%81%D9%8A%D8%A9),\\n中文:\\n[发现隐藏的摄像头和麦克风](https://zh.wikihow.com/%E5%8F%91%E7%8E%B0%E9%9A%90%E8%97%8F%E7%9A%84%E6%91%84%E5%83%8F%E5%A4%B4%E5%92%8C%E9%BA%A6%E5%85%8B%E9%A3%8E),\\nไทย:\\n[หากล้องที่ซ่อนไว้กับไมโครโฟนดักฟัง](https://th.wikihow.com/%E0%B8%AB%E0%B8%B2%E0%B8%81%E0%B8%A5%E0%B9%89%E0%B8%AD%E0%B8%87%E0%B8%97%E0%B8%B5%E0%B9%88%E0%B8%8B%E0%B9%88%E0%B8%AD%E0%B8%99%E0%B9%84%E0%B8%A7%E0%B9%89%E0%B8%81%E0%B8%B1%E0%B8%9A%E0%B9%84%E0%B8%A1%E0%B9%82%E0%B8%84%E0%B8%A3%E0%B9%82%E0%B8%9F%E0%B8%99%E0%B8%94%E0%B8%B1%E0%B8%81%E0%B8%9F%E0%B8%B1%E0%B8%87),\\nTiếng Việt: [Phát hiện máy quay và máy thu âm giấu\\nkín](https://www.wikihow.vn/Ph%C3%A1t-hi%E1%BB%87n-m%C3%A1y-quay-v%C3%A0-m%C3%A1y-thu-%C3%A2m-gi%E1%BA%A5u-k%C3%ADn),\\n한국어: [숨겨진 카메라와 마이크를 탐지하는\\n방법](https://ko.wikihow.com/%EC%88%A8%EA%B2%A8%EC%A7%84-%EC%B9%B4%EB%A9%94%EB%9D%BC%EC%99%80-%EB%A7%88%EC%9D%B4%ED%81%AC%EB%A5%BC-%ED%83%90%EC%A7%80%ED%95%98%EB%8A%94-%EB%B0%A9%EB%B2%95),\\nहिन्दी: [छुपे कैमरे और माइक्रोफ़ोन\\nढूंढें](https://hi.wikihow.com/%E0%A4%9B%E0%A5%81%E0%A4%AA%E0%A5%87-%E0%A4%95%E0%A5%88%E0%A4%AE%E0%A4%B0%E0%A5%87-%E0%A4%94%E0%A4%B0-%E0%A4%AE%E0%A4%BE%E0%A4%87%E0%A4%95%E0%A5%8D%E0%A4%B0%E0%A5%8B%E0%A4%AB%E0%A4%BC%E0%A5%8B%E0%A4%A8-%E0%A4%A2%E0%A5%82%E0%A4%82%E0%A4%A2%E0%A5%87%E0%A4%82),\\n日本語:\\n[隠しカメラや盗聴器を見つける](https://www.wikihow.jp/%E9%9A%A0%E3%81%97%E3%82%AB%E3%83%A1%E3%83%A9%E3%82%84%E7%9B%97%E8%81%B4%E5%99%A8%E3%82%92%E8%A6%8B%E3%81%A4%E3%81%91%E3%82%8B),\\nTürkçe: [Gizli Kameralar ve Mikrofonlar Nasıl\\nSaptanır](https://www.wikihow.com.tr/Gizli-Kameralar-ve-Mikrofonlar-\\nNas%C4%B1l-Saptan%C4%B1r)\\n\\n  * Print\\n  * Edit\\n  * Send fan mail to authors\\n\\nThanks to all authors for creating a page that has been read 2,163,234 times.\\n\\nIs this article up to date?\\n\\nYes No\\n\\n\\n\\nCookies make wikiHow better. By continuing to use our site, you agree to our\\n[cookie policy](/wikiHow:Cookie-Policy).\\n\\nCo-Authored By:\\n\\nwikiHow Staff Editor\\n\\nHow helpful is this?\\n\\nCo-authors: 38\\n\\nUpdated: October 22, 2019\\n\\nViews: 2,163,234\\n\\nLS\\n\\nLiam Mercury Starks\\n\\nMar 26, 2018\\n\\n\"I live in an apartment with family. Odd lights literally pointing at places\\n(like the shower), neighbors talking about details of our personal lives, and\\nrandom wires sticking out of walls led me to this article, and this article\\nled me to find 4 cameras today.\"...\" more\\n\\nBS\\n\\nBetty Sommers\\n\\nMar 27, 2017\\n\\n\"My apartment was robbed, and interestingly, my hidden money was also taken.\\nAlso, I have been told that someone is monitoring my computer. I applied all\\nyour methods, and think my light fixture has a camera.\"...\" more\\n\\nAB\\n\\nA. B.\\n\\nDec 6, 2016\\n\\n\"I felt like my bestie was being watched. I followed your advice. I found\\ncameras installed when she moved in.  She was being watched. Thanks to you,\\nshe moved right next to me.\"...\" more\\n\\nA\\n\\nAnonymous\\n\\nAug 16, 2017\\n\\n\"Using a mobile phone and checking for static sounds. Also, the turning off of\\nlights to find red or green colors lit up. Checking under shelves and\\ntabletops was a great answer!\"...\" more\\n\\nA\\n\\nAnonymous\\n\\nSep 27, 2016\\n\\n\"The most helpful tip was to get yourself a flashlight and a toilet roll and\\ncut the lights, in order to see hidden cameras.\"...\" more\\n\\nRW\\n\\nRobert Wieda\\n\\nOct 6, 2016\\n\\n\"Tons of info to many questions, thanks to wikiHow it feels that we the people\\nhave powerful help on our side.\"\\n\\nA\\n\\nAnonymous\\n\\nOct 6, 2016\\n\\n\"Everything actually helped, the darkness test was most helpful. The initial\\nsweep was extremely useful, too.\"\\n\\nA\\n\\nAnonymous\\n\\nJul 17, 2017\\n\\n\"It helped me on how to build a great team because I used to have one but it\\ndidn\\'t go as I wanted it to go.\"\\n\\nMA\\n\\nM. Ammar\\n\\nNov 28, 2017\\n\\n\"I heard the click sound of a camera placed in my room with help of my cell\\nphone. Thank you wikiHow team.\"\\n\\nA\\n\\nAnonymous\\n\\nJun 21, 2017\\n\\n\"It really helped! Thank you, wikiHow editors, you helped me find a hidden\\ncamera my ex installed!\"\\n\\nA\\n\\nAnonymous\\n\\nOct 13, 2016\\n\\n\"What helped most was when I called and heard the click sound as I stood near\\nthe targeted area.\"\\n\\nA\\n\\nAnonymous\\n\\nOct 22, 2016\\n\\n\"I used the darkness method to find a hidden camera in my room. Really good\\nthing, this one.\"\\n\\nA\\n\\nAnonymous\\n\\nJan 10, 2017\\n\\n\"Flashlight trick was good to know. The info on EMF detection was helpful.\"\\n\\nA\\n\\nAnonymous\\n\\nNov 25, 2016\\n\\n\"Prior to this article, I had no knowledge of a RF detector. Thank you.\"\\n\\nA\\n\\nAnonymous\\n\\nMay 6, 2017\\n\\n\"I love the extra tips and questions at the bottom, really helpful.\"\\n\\nA\\n\\nAnonymous\\n\\nJul 18, 2017\\n\\n\"Using a flashlight in the darkness on the mirror was very useful.\"\\n\\nJS\\n\\nJonathan Smiths\\n\\nNov 6, 2017\\n\\n\"Permitted me to know that a camera was recording me, thank you. \"\\n\\nA\\n\\nAnonymous\\n\\nFeb 15, 2018\\n\\n\"Using the cell phone and the flashlight was helpful.\"\\n\\nA\\n\\nAnonymous\\n\\nDec 27, 2017\\n\\n\"It stood out that you guys care, so thanks.\"\\n\\nA\\n\\nAnonymous\\n\\nSep 8, 2017\\n\\n\"All of it helped so much, thanks.\"\\n\\nA\\n\\nAnonymous\\n\\nMay 30, 2017\\n\\n\"Carefully given guide. Thanks!\"\\n\\nJG\\n\\nJavier Garcia\\n\\nJan 9, 2017\\n\\n\"I liked the whole article.\"\\n\\n![](https://lh3.googleusercontent.com/-skqaxE7hx4s/AAAAAAAAAAI/AAAAAAAAAAA/AMcAYi-\\niyeNsabsctYi9dy78MNuIXy-OLQ/s96-c/photo.jpg)\\n\\nFreya Allen\\n\\nApr 14, 2017\\n\\n\"Lots of things helped me.\"\\n\\nA\\n\\nAnonymous\\n\\nFeb 6, 2017\\n\\n\"Thanks for helping me.\"\\n\\nShare yours! More success stories All success stories Hide success stories\\n\\n### Related Articles\\n\\n[![](https://www.wikihow.com/images/thumb/7/73/Spy-on-People-\\nStep-23.jpg/-crop-127-140-127px-Spy-on-People-Step-23.jpg)](/Spy-on-People)\\n\\n[\\n\\nHow to\\n\\nSpy on People](/Spy-on-People)\\n\\n[![](https://www.wikihow.com/images/thumb/f/f9/Spy-on-Neighbors-\\nStep-11-Version-2.jpg/-crop-127-140-127px-Spy-on-Neighbors-\\nStep-11-Version-2.jpg)](/Spy-on-Neighbors)\\n\\n[\\n\\nHow to\\n\\nSpy on Neighbors](/Spy-on-Neighbors)\\n\\n[![](https://www.wikihow.com/images/thumb/1/19/Play-James-Bond-\\nStep-11.jpg/-crop-127-140-127px-Play-James-Bond-Step-11.jpg)](/Play-James-\\nBond)\\n\\n[\\n\\nHow to\\n\\nPlay James Bond](/Play-James-Bond)\\n\\n[![](https://www.wikihow.com/images/thumb/0/0d/Spy-on-Your-Man-\\nStep-12.jpg/-crop-127-140-127px-Spy-on-Your-Man-Step-12.jpg)](/Spy-on-Your-\\nMan)\\n\\n[\\n\\nHow to\\n\\nSpy on Your Man](/Spy-on-Your-Man)\\n\\n[](https://www.instagram.com/wikihow/ \"Instagram\")\\n[](https://www.facebook.com/wikiHow/ \"Facebook\")\\n[](https://twitter.com/wikihow \"Twitter\") [](https://www.youtube.com/wikihow\\n\"YouTube\") [](https://wikihow.us13.list-\\nmanage.com/subscribe?u=7d3ca675de04729b75ecca92b&id=2e1c5aad27 \"Newsletter\")\\n\\n  * [Home](/Main-Page \"Main Page\")\\n  * [About wikiHow](/About-wikiHow \"About wikiHow\")\\n  * [Jobs](/wikiHow:Jobs \"wikiHow:Jobs\")\\n  * [Terms of Use](/Terms-of-Use \"Terms of Use\")\\n  * [Site Map](/Special:Sitemap \"Special:Sitemap\")\\n  * [Mobile view](https://m.wikihow.com/Detect-Hidden-Cameras-and-Microphones)\\n\\n  \\n\\n383\\n\\n'"
      ]
     },
     "execution_count": 9,
     "metadata": {},
     "output_type": "execute_result"
    }
   ],
   "source": [
    "from html2text import html2text\n",
    "import io\n",
    "filepath = \"XXX\\XXX\\XXX\\XXX.html\"\n",
    "#opening the file\n",
    "f=open(filepath, 'r',encoding=\"utf8\",errors='ignore')\n",
    "#converting html to text\n",
    "string=html2text(f.read())\n",
    "string"
   ]
  },
  {
   "cell_type": "markdown",
   "metadata": {},
   "source": [
    "# PROCESSIONG USING Regex"
   ]
  },
  {
   "cell_type": "code",
   "execution_count": 27,
   "metadata": {},
   "outputs": [
    {
     "name": "stdout",
     "output_type": "stream",
     "text": [
      "\n",
      "\n",
      "###\n",
      "\n",
      "Method 1\n",
      "\n",
      "Conducting a Physical Search\n",
      "\n",
      "  \n",
      "\n",
      "1\n",
      "\n",
      "**Listen for a quiet buzzing or clicking noise to detect a recording device.**\n",
      "Hidden cameras are designed to be as discrete as possible, but many will still\n",
      "emit a slight sound when they are working. When the area of suspected\n",
      "surveillance is as quiet as possible, walk around slowly to listen out for any\n",
      "buzzing or slight clicking noises that might be coming from a hidden\n",
      "camera.\n",
      "\n",
      "    * Try searching the room late at night to reduce the ambient sound in the room. This will make isolating and locating any noises much easier.\n",
      "    * There are plenty of different mechanical and electrical devices that can make quiet buzzing and clicking noises. Combine this method with other ways of identifying hidden cameras and microphones to differentiate between malicious and ordinary items.\n",
      "\n",
      "  \n",
      "\n",
      "2\n",
      "\n",
      "**Investigate your smoke detectors and other electronics.** Surveillance\n",
      "devices can be hidden inside other devices that require electricity, such as\n",
      "smoke detectors. Take your smoke detector down from the ceiling and look for a\n",
      "microphone or camera inside. Check your speakers, lamps, and other electronics\n",
      "for signs of tampering that may indicate someone added a microphone.\n",
      "\n",
      "    * Smoke detectors are a perfect place for microphones to be hidden as they have built-in power and are normally centralized in a room.\n",
      "    * Microphones or cameras hidden inside smoke detectors or other electronics will usually be easily visible. Look for anything that doesn't seem to be attached to the rest of the device, or anything that looks like a microphone or camera.\n",
      "\n",
      "  \n",
      "\n",
      "3\n",
      "\n",
      "**Look for decorations that seem strange or out of place.** One of the most\n",
      "common ways of hiding a microphone or camera in a room is by hiding it in\n",
      "something inconspicuous, such as a teddy bear or a vase of flowers. Look\n",
      "around the room for any decorations that seem like they don’t fit with the\n",
      "rest of the space, or that are angled in peculiar ways.\n",
      "\n",
      "    * While most of a camera can be hidden inside something else, the lens will almost always need to be completely visible for the camera to work. Check your suspicious decorations for glassy surfaces or visible lenses that might indicate a hidden camera.\n",
      "    * The most effective cameras will be positioned so that they can see as much of the room as possible. Look for decorations on the edges of the room that are angled awkwardly to face into the room.\n",
      "    * Hidden microphones will work best when they’re in the center of a room, so they can hear everything equally. Look for decorations positioned on a table in the middle of your room to find hidden microphones.\n",
      "\n",
      "  \n",
      "\n",
      "4\n",
      "\n",
      "**Check for peculiar wires or wires that don’t lead anywhere.** While some\n",
      "short-term surveillance devices might be battery-powered, most hidden cameras\n",
      "and microphones will need some sort of power supply. Look around your\n",
      "electronics and power outlets for wires leading into anything that doesn’t\n",
      "need power, or wires that you don’t recognize.\n",
      "\n",
      "    * If you find an unfamiliar wire and can’t work out what it is powering, you should unplug it immediately.\n",
      "\n",
      "  \n",
      "\n",
      "5\n",
      "\n",
      "**Build a(/Build-a-Hidden-Camera-Detector \"Build\n",
      "a Hidden Camera Detector\") to find well-hidden devices.** A hidden camera\n",
      "detector will make it easier to detect pinhole cameras hidden in walls or\n",
      "objects. Place an empty toilet paper tube over one eye and hold a flashlight\n",
      "in front of the other. Turn off the lights, turn on the flashlight, and look\n",
      "around the room slowly for small glimmers of light.\n",
      "\n",
      "    * The light will reflect off of the charge coupled device or lens on the camera, making it easier to notice.\n",
      "    * Once you identify a glimmer, take a closer look at the object to see if it might be a camera. Some reflective objects will let off a glimmer without it meaning they’re hiding a camera.\n",
      "    * Some cameras might also have small LED lights that will activate in the dark. These should also be easily visible through a hidden camera detector.\n",
      "\n",
      "  \n",
      "\n",
      "6\n",
      "\n",
      "**Look around light fixtures and the battery in your vehicle.** Cameras and\n",
      "microphones can be hidden in your car to record or track you. Check inside any\n",
      "light fixtures or around your vehicle's battery for any unfamiliar wires or\n",
      "devices. Use a flashlight to look under your car, checking for anything that\n",
      "seems to be stuck onto the vehicle rather than part of it.\n",
      "\n",
      "    * It's rare for there to be wires coming off of the contact points on your battery. Carefully investigate any strange wires, avoiding coming in contact with the battery where you can.\n",
      "    * The only device inside your light fixture should be the lightbulb itself. It may also help to take a look inside and around the lightbulb to see if the bulb itself is bugged.\n",
      "    * All of the methods used for detecting hidden cameras and microphones in your home will also work when looking for them in your car.\n",
      "\n",
      "  \n",
      "\n",
      "7\n",
      "\n",
      "**Use a flashlight to(/Tell-if-a-Mirror-Is-\n",
      "Two-Way-or-Not \"Tell if a Mirror Is Two Way or Not\").** Two-way mirrors look\n",
      "like a mirror on one side and a window from the other, which makes them\n",
      "perfect for hiding cameras. If you suspect a mirror is two-way, turn off the\n",
      "lights in the room and press a flashlight against the glass. If it’s a two-way\n",
      "mirror, you’ll be able to see the room on the other side.\n",
      "\n",
      "    * Try lifting the mirror off of the wall. Two-way mirrors have to be installed in the wall or bolted to it, where regular mirrors might just be hung on a hook.\n",
      "    * Another way to detect a two-way mirror is by tapping on it. A regular mirror will produce a dull, flat sound, whereas a two-way mirror will sound sharper, open, or hollow due to the room behind it.\n",
      "    * If you suspect you have a two-way mirror, the easiest way to deal with it is to cover it up with a sheet, some paper, or even by hanging another mirror over it.\n",
      "\n",
      "###\n",
      "\n",
      "Method 2\n",
      "\n",
      "Searching for Electrical Signals\n",
      "\n",
      "  \n",
      "\n",
      "1\n",
      "\n",
      "**Sweep the area with an RF detector.** RF detectors allow you to scan for\n",
      "radio frequencies used to transmit from hidden cameras and microphones.\n",
      "Purchase an RF detector online or from your local electronics store and wave\n",
      "it around the area you think is bugged. The detector will give off a small\n",
      "beeping or crackling sound when pointed at an item giving off radio\n",
      "frequencies.\n",
      "\n",
      "    * You’ll need to turn off any other devices that broadcast radio signals in order for the RF detector to work.\n",
      "    * Check the manufacturer’s guidelines for more information on how to use your RF detector.\n",
      "    * When the RF detector beeps or crackles, look around the area to find the hidden surveillance device.\n",
      "\n",
      "  \n",
      "\n",
      "2\n",
      "\n",
      "**Listen for interference when making a call.** Many hidden cameras and\n",
      "microphones will make a small electromagnetic field as they transmit data.\n",
      "Make a call on your cellphone and walk around the room while you talk. If you\n",
      "hear any crackling, clicking, or buzzing on the phone, it might be a sign that\n",
      "you’re entering the field of a surveillance device.\n",
      "\n",
      "    * Move your phone around the are where you think the hidden camera or microphone is to get a better sense of its exact location. The buzzing, clicking, and crackling should get louder on the phone as you get closer to the device.\n",
      "    * There are many other devices, such as speakers, television sets, and radios that might create small electromagnetic fields as well. Turn these off when searching for hidden devices.\n",
      "    * You can perform a similar check with an AM/FM radio. Place the radio near the location where the microphone is hidden and turn the dial, listening for any strange interference or static.\n",
      "\n",
      "  \n",
      "\n",
      "3\n",
      "\n",
      "**Use a digital or smartphone camera to look for infrared lights.** Most\n",
      "smartphone and digital cameras can see infrared light that isn’t visible to\n",
      "the human eye, and which can be used by hidden cameras. Scan your camera\n",
      "around the room and look through the display for any unexpected light sources\n",
      "or flashes, which might point to a hidden camera.\n",
      "\n",
      "    * You can check if your camera can detect infrared light by pointing a TV remote at it and pressing a button. You should see a small flicker of light on the end of the TV remote from the infrared light.\n",
      "\n",
      "  \n",
      "\n",
      "4\n",
      "\n",
      "**Look for strange Wi-Fi signals on your phone or computer.** Some modern\n",
      "cameras and microphones will transmit data over the internet, meaning they can\n",
      "be accessed from almost anywhere. However, they’ll often also have Wi-Fi\n",
      "signals. Search for available Wi-Fi signals on your phone or laptop and look\n",
      "for any that seem unexpected or suspicious.\n",
      "\n",
      "    * The default Wi-Fi name for a lot of hidden cameras will be the product code for the device. Search for any unknown Wi-Fi names online to see what kind of device they belong to.\n",
      "    * As well as peculiar Wi-Fi names, you can look for Wi-Fi signals that are stronger than you anticipated. A strong signal normally indicates that the device is nearby.\n",
      "    * If you have access to the wireless router, you may be able to log in and see which devices are connected to your network. Remove access to any devices you didn’t set up to keep your network secure.\n",
      "\n",
      "##\n",
      "\n",
      "\n"
     ]
    }
   ],
   "source": [
    "import re\n",
    "#getting only the document summary\n",
    "string_step=re.findall(r\"Steps(.*?)Community Q&A\",string,re.DOTALL)\n",
    "#the output in tupleform to string\n",
    "tuple_to_string =  ''.join(string_step)\n",
    "#removing the image links\n",
    "string_remove=re.sub('\\d\\..+?\\)',\"\",tuple_to_string)\n",
    "#removing the reference numbers\n",
    "string_remove_2=re.sub('\\[.+?\\]',\"\",string_remove)\n",
    "#Formatting\n",
    "string_remove_2=string_remove_2.split(\"\\n\")\n",
    "i=0\n",
    "while i < len(string_remove_2):\n",
    "    print(string_remove_2[i])\n",
    "    i=i+1"
   ]
  },
  {
   "cell_type": "markdown",
   "metadata": {},
   "source": [
    "# HANDLING LINKS"
   ]
  },
  {
   "cell_type": "code",
   "execution_count": 31,
   "metadata": {},
   "outputs": [
    {
     "name": "stdout",
     "output_type": "stream",
     "text": [
      "Hello, world!\n",
      "\n",
      "\n",
      "\n",
      "\n",
      "Hello, world!\n",
      "\n",
      "\n",
      "\n",
      "\n",
      "Hello, [world](https://www.google.com/earth/)!\n",
      "\n",
      "\n"
     ]
    }
   ],
   "source": [
    "import html2text\n",
    "h = html2text.HTML2Text()\n",
    "\n",
    "# Ignore converting links from HTML\n",
    "h.ignore_links = True\n",
    "print(h.handle(\"<p>Hello, <a href='https://www.google.com/earth/'>world</a>!\"))\n",
    "\n",
    "# Don't Ignore links anymore, I like links\n",
    "h.ignore_links = False\n",
    "print(h.handle(\"<p>Hello, <a href='https://www.google.com/earth/'>world</a>!\"))\n"
   ]
  },
  {
   "cell_type": "markdown",
   "metadata": {},
   "source": [
    "# HANDLING IMAGES"
   ]
  },
  {
   "cell_type": "code",
   "execution_count": 39,
   "metadata": {},
   "outputs": [
    {
     "name": "stdout",
     "output_type": "stream",
     "text": [
      "Hello,\n",
      "\n",
      "\n",
      "\n",
      "\n",
      "Hello,\n",
      "![](https://www.google.com/search?q=images&source=lnms&tbm=isch&sa=X&ved=2ahUKEwjTg_C_z4DqAhVryDgGHeR4ALIQ_AUoAXoECBMQAw&biw=1422&bih=624#imgrc=a9B7raWE3PxoBM)\n",
      "\n",
      "\n"
     ]
    }
   ],
   "source": [
    "import html2text\n",
    "h = html2text.HTML2Text()\n",
    "\n",
    "# Ignore converting images\n",
    "h.ignore_images = True\n",
    "print(h.handle(\"<p>Hello, <img src='https://www.google.com/search?q=images&source=lnms&tbm=isch&sa=X&ved=2ahUKEwjTg_C_z4DqAhVryDgGHeR4ALIQ_AUoAXoECBMQAw&biw=1422&bih=624#imgrc=a9B7raWE3PxoBM'>\"))\n",
    "\n",
    "# Don't Ignore images\n",
    "h.ignore_images = False\n",
    "print(h.handle(\"<p>Hello, <img src='https://www.google.com/search?q=images&source=lnms&tbm=isch&sa=X&ved=2ahUKEwjTg_C_z4DqAhVryDgGHeR4ALIQ_AUoAXoECBMQAw&biw=1422&bih=624#imgrc=a9B7raWE3PxoBM'>\"))\n"
   ]
  },
  {
   "cell_type": "markdown",
   "metadata": {},
   "source": [
    "# OPTIONS TO EXPLORE"
   ]
  },
  {
   "cell_type": "markdown",
   "metadata": {},
   "source": [
    "For more functions explore the link given below\n",
    "https://github.com/Alir3z4/html2text/blob/master/docs/usage.md"
   ]
  }
 ],
 "metadata": {
  "kernelspec": {
   "display_name": "Python 3",
   "language": "python",
   "name": "python3"
  },
  "language_info": {
   "codemirror_mode": {
    "name": "ipython",
    "version": 3
   },
   "file_extension": ".py",
   "mimetype": "text/x-python",
   "name": "python",
   "nbconvert_exporter": "python",
   "pygments_lexer": "ipython3",
   "version": "3.7.4"
  }
 },
 "nbformat": 4,
 "nbformat_minor": 4
}
