{
  "nbformat": 4,
  "nbformat_minor": 0,
  "metadata": {
    "colab": {
      "provenance": []
    },
    "kernelspec": {
      "name": "python3",
      "display_name": "Python 3"
    },
    "language_info": {
      "name": "python"
    }
  },
  "cells": [
    {
      "cell_type": "markdown",
      "source": [
        "**OOP Concepts in Python**\n",
        "\n",
        "Object-Oriented Programming (or OOP) is a paradigm of programming in which programs are written and structured around objects rather than functions or logic. It is a paradigm of programming in which programs are written and structured around objects rather than functions or logic. Object procedures can access and modify data in an object.\n",
        "\n",
        "The four main concepts of OOP are:\n",
        "1. Abstraction\n",
        "2. Encapsulation\n",
        "3. Inheritance\n",
        "4. Polymorphism\n"
      ],
      "metadata": {
        "id": "kSYBtEUSfjH7"
      }
    },
    {
      "cell_type": "markdown",
      "source": [
        "**Abstraction**\n",
        "\n",
        "Abstraction, as we basically know hides the irrelevant data specified in the project, reducing complexity and giving value to efficiency."
      ],
      "metadata": {
        "id": "oo4T_UeZfvLh"
      }
    },
    {
      "cell_type": "code",
      "source": [
        "from abc import ABC, abstractmethod\n",
        "\n",
        "class Cars(ABC):\n",
        "    def final_bill(self, payable):\n",
        "        print(f\"Total Payment for the Car(Including Taxes): {payable}\\n\")\n",
        "        \n",
        "        @abstractmethod\n",
        "        def Invoice(self, pay):\n",
        "          pass\n",
        "\n",
        "\n",
        "class paycheque(Cars):\n",
        "    def Invoice(self, payable):\n",
        "        print(f\"Payment By Cheque: {payable}\")\n",
        "\n",
        "\n",
        "class CardPay(Cars):\n",
        "    def Invoice(self, pay):\n",
        "        print(f\"Card Payment: {pay}\")\n",
        "\n",
        "pc = paycheque()\n",
        "pc.Invoice(852000)\n",
        "pc.final_bill(855000)\n",
        "\n",
        "# print(isinstance(pc,Cars))\n",
        "\n",
        "cp = CardPay()\n",
        "cp.Invoice(952000)\n",
        "cp.final_bill(950000)\n",
        "\n",
        "# print(isinstance(cp,Cars))\n"
      ],
      "metadata": {
        "colab": {
          "base_uri": "https://localhost:8080/"
        },
        "id": "DcycCd3mftRe",
        "outputId": "ed3d3e68-6bab-47be-e62a-e3ad2a30ca73"
      },
      "execution_count": 10,
      "outputs": [
        {
          "output_type": "stream",
          "name": "stdout",
          "text": [
            "Payment By Cheque: 852000\n",
            "Total Payment for the Car(Including Taxes): 855000\n",
            "\n",
            "Card Payment: 952000\n",
            "Total Payment for the Car(Including Taxes): 950000\n",
            "\n"
          ]
        }
      ]
    },
    {
      "cell_type": "markdown",
      "source": [
        "**Encapsulation**\n",
        "\n",
        "Encapsulation offers a way for us to access the required variables without providing the program full-fledged access to any of those variables."
      ],
      "metadata": {
        "id": "OHoVTEoYkGF9"
      }
    },
    {
      "cell_type": "code",
      "source": [
        "class Person:\n",
        "    def __init__(self, name, age=0):\n",
        "        self.name = name\n",
        "        self.__age = age\n",
        " \n",
        "    def display(self):\n",
        "        print(f\"The name of the person is {self.name} and their age is {self.__age}\")\n",
        " \n",
        "    def getAge(self):\n",
        "        print(f\"The age of the person is {self.__age}\")\n",
        " \n",
        "    def getName(self):\n",
        "        print(f\"The name of the person is {self.name}\")\n",
        "\n",
        "    def setAge(self, age):\n",
        "        self.__age = age\n",
        "        print(\"\\n Changes made successfully...\\n\")\n",
        " \n",
        "person = Person('Vedhas', 20)\n",
        "person.display()\n",
        "person.setAge(15)\n",
        "person.getAge()\n",
        "person.getName()\n",
        "person.display()"
      ],
      "metadata": {
        "colab": {
          "base_uri": "https://localhost:8080/"
        },
        "id": "x_vrOsHBg1Y2",
        "outputId": "975fee0b-cae7-4522-ab2d-e0176d85730e"
      },
      "execution_count": 5,
      "outputs": [
        {
          "output_type": "stream",
          "name": "stdout",
          "text": [
            "The name of the person is Vedhas and their age is 20\n",
            "\n",
            " Changes made successfully...\n",
            "\n",
            "The age of the person is 15\n",
            "The name of the person is Vedhas\n",
            "The name of the person is Vedhas and their age is 15\n"
          ]
        }
      ]
    },
    {
      "cell_type": "markdown",
      "source": [
        "**Inheritance**\n",
        "\n",
        "Inheritance is the ability of one class to inherit another class. It provides reusability of code and allows us to create complex and real-world-like relationships among objects."
      ],
      "metadata": {
        "id": "wMK_noYibshm"
      }
    },
    {
      "cell_type": "code",
      "source": [
        "class Student():\n",
        "\n",
        "   def __init__(self, name, enrollno):\n",
        "      self.name = name\n",
        "      self.enrollno = enrollno\n",
        "   \n",
        "   def display(self):\n",
        "      print(f\"The Name is {self.name} and their Enroll No is {self.enrollno}\")\n",
        "\n",
        "class College(Student):\n",
        "   def __init__(self, name, enrollno, admnyear, branch):\n",
        "      self.admnyear = admnyear\n",
        "      self.branch = branch\n",
        "\n",
        "      Student.__init__(self, name, enrollno)\n",
        "\n",
        "class University(Student):\n",
        "   def __init__(self, name, enrollno, refno, branch):\n",
        "      self.refno = refno\n",
        "      self.branch = branch\n",
        "\n",
        "      Student.__init__(self, name, enrollno)\n",
        "\n",
        "obj_1 = College('Rama',854, 2020,\"CMPN\")\n",
        "obj_1.display()\n",
        "obj_2 = University ('Sayaka',765, 877,\"CSE\")\n",
        "obj_2.display()"
      ],
      "metadata": {
        "colab": {
          "base_uri": "https://localhost:8080/"
        },
        "id": "FmzY6RakbDy6",
        "outputId": "a088a916-2109-4475-82fb-607eb79ca481"
      },
      "execution_count": 11,
      "outputs": [
        {
          "output_type": "stream",
          "name": "stdout",
          "text": [
            "The Name is Rama and their Enroll No is 854\n",
            "The Name is Sayaka and their Enroll No is 765\n"
          ]
        }
      ]
    },
    {
      "cell_type": "markdown",
      "source": [
        "**Polymorphism**\n",
        "\n",
        "Polymorphism refers to the use of a single type entity (method, operator or object) to represent different types in different scenarios."
      ],
      "metadata": {
        "id": "t27gp7lJeL0g"
      }
    },
    {
      "cell_type": "code",
      "source": [
        "class Cat:\n",
        "    def __init__(self, name, age):\n",
        "        self.name = name\n",
        "        self.age = age\n",
        "\n",
        "    def info(self):\n",
        "        print(f\"I am a cat. My name is {self.name} and my age is {self.age} years old.\")\n",
        "\n",
        "    def make_sound(self):\n",
        "        print(\"Meow, Meow...\")\n",
        "\n",
        "\n",
        "class Dog:\n",
        "    def __init__(self, name, age):\n",
        "        self.name = name\n",
        "        self.age = age\n",
        "\n",
        "    def info(self):\n",
        "        print(f\"I am a dog. My name is {self.name} and my age is {self.age} years old.\")\n",
        "\n",
        "    def make_sound(self):\n",
        "        print(\"Woof, Woof!!!\")\n",
        "\n",
        "\n",
        "cat1 = Cat(\"Kitty\", 1.1)\n",
        "dog1 = Dog(\"Fluffy\", 1.3)\n",
        "\n",
        "for animal in (cat1, dog1):\n",
        "    animal.info()\n",
        "    animal.make_sound()"
      ],
      "metadata": {
        "colab": {
          "base_uri": "https://localhost:8080/"
        },
        "id": "NLMysCbtej7V",
        "outputId": "981fde76-c281-4940-d41a-a6ce7ff01a14"
      },
      "execution_count": 15,
      "outputs": [
        {
          "output_type": "stream",
          "name": "stdout",
          "text": [
            "I am a cat. My name is Kitty and my age is 1.1 years old.\n",
            "Meow, Meow...\n",
            "I am a dog. My name is Fluffy and my age is 1.3 years old.\n",
            "Woof, Woof!!!\n"
          ]
        }
      ]
    }
  ]
}