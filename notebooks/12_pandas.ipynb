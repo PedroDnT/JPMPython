{
 "cells": [
  {
   "cell_type": "markdown",
   "metadata": {},
   "source": [
    "# Let's work with Pandas!"
   ]
  },
  {
   "cell_type": "markdown",
   "metadata": {},
   "source": [
    "## What is Pandas?\n",
    "\n",
    "Pandas is an open source, BSD-licensed python library.\n",
    "\n",
    "It is known for providing *high-performance*, *easy-to-use data structures* and *data analysis tools* for the Python programming language."
   ]
  },
  {
   "cell_type": "code",
   "execution_count": 1,
   "metadata": {},
   "outputs": [],
   "source": [
    "import pandas as pd"
   ]
  },
  {
   "cell_type": "markdown",
   "metadata": {},
   "source": [
    "## Building DataFrames with Pandas"
   ]
  },
  {
   "cell_type": "markdown",
   "metadata": {},
   "source": [
    "### From Python Dictionaries"
   ]
  },
  {
   "cell_type": "code",
   "execution_count": 2,
   "metadata": {},
   "outputs": [
    {
     "data": {
      "text/plain": [
       "[('ID', ['S1', 'S2', 'S3', 'S4']),\n",
       " ('English', [89, 90, 78, 98]),\n",
       " ('Maths', [67, 90, 100, 100]),\n",
       " ('Science', [78, 89, 90, 89])]"
      ]
     },
     "execution_count": 2,
     "metadata": {},
     "output_type": "execute_result"
    }
   ],
   "source": [
    "list1 = ['S1','S2','S3','S4']\n",
    "English = [89,90,78,98]\n",
    "Maths = [67,90,100,100]\n",
    "Science = [78,89,90,89]\n",
    "\n",
    "titles = ['ID', 'English','Maths','Science']\n",
    "values = [list1,English,Maths,Science]\n",
    "result = list(zip(titles,values))\n",
    "result"
   ]
  },
  {
   "cell_type": "code",
   "execution_count": 3,
   "metadata": {},
   "outputs": [
    {
     "name": "stdout",
     "output_type": "stream",
     "text": [
      "   ID  English  Maths  Science\n",
      "0  S1       89     67       78\n",
      "1  S2       90     90       89\n",
      "2  S3       78    100       90\n",
      "3  S4       98    100       89\n"
     ]
    }
   ],
   "source": [
    "result1 = dict(result)\n",
    "df1 = pd.DataFrame(result1)\n",
    "print(df1)"
   ]
  },
  {
   "cell_type": "markdown",
   "metadata": {},
   "source": [
    "## Importing data "
   ]
  },
  {
   "cell_type": "markdown",
   "metadata": {},
   "source": [
    "###  Dataframes from CSV files"
   ]
  },
  {
   "cell_type": "code",
   "execution_count": 4,
   "metadata": {},
   "outputs": [
    {
     "data": {
      "text/html": [
       "<div>\n",
       "<style scoped>\n",
       "    .dataframe tbody tr th:only-of-type {\n",
       "        vertical-align: middle;\n",
       "    }\n",
       "\n",
       "    .dataframe tbody tr th {\n",
       "        vertical-align: top;\n",
       "    }\n",
       "\n",
       "    .dataframe thead th {\n",
       "        text-align: right;\n",
       "    }\n",
       "</style>\n",
       "<table border=\"1\" class=\"dataframe\">\n",
       "  <thead>\n",
       "    <tr style=\"text-align: right;\">\n",
       "      <th></th>\n",
       "      <th>Name</th>\n",
       "      <th>Allegiances</th>\n",
       "      <th>Death Year</th>\n",
       "      <th>Book of Death</th>\n",
       "      <th>Death Chapter</th>\n",
       "      <th>Book Intro Chapter</th>\n",
       "      <th>Gender</th>\n",
       "      <th>Nobility</th>\n",
       "      <th>GoT</th>\n",
       "      <th>CoK</th>\n",
       "      <th>SoS</th>\n",
       "      <th>FfC</th>\n",
       "      <th>DwD</th>\n",
       "    </tr>\n",
       "  </thead>\n",
       "  <tbody>\n",
       "    <tr>\n",
       "      <th>0</th>\n",
       "      <td>Addam Marbrand</td>\n",
       "      <td>Lannister</td>\n",
       "      <td>NaN</td>\n",
       "      <td>NaN</td>\n",
       "      <td>NaN</td>\n",
       "      <td>56.0</td>\n",
       "      <td>1</td>\n",
       "      <td>1</td>\n",
       "      <td>1</td>\n",
       "      <td>1</td>\n",
       "      <td>1</td>\n",
       "      <td>1</td>\n",
       "      <td>0</td>\n",
       "    </tr>\n",
       "    <tr>\n",
       "      <th>1</th>\n",
       "      <td>Aegon Frey (Jinglebell)</td>\n",
       "      <td>None</td>\n",
       "      <td>299.0</td>\n",
       "      <td>3.0</td>\n",
       "      <td>51.0</td>\n",
       "      <td>49.0</td>\n",
       "      <td>1</td>\n",
       "      <td>1</td>\n",
       "      <td>0</td>\n",
       "      <td>0</td>\n",
       "      <td>1</td>\n",
       "      <td>0</td>\n",
       "      <td>0</td>\n",
       "    </tr>\n",
       "    <tr>\n",
       "      <th>2</th>\n",
       "      <td>Aegon Targaryen</td>\n",
       "      <td>House Targaryen</td>\n",
       "      <td>NaN</td>\n",
       "      <td>NaN</td>\n",
       "      <td>NaN</td>\n",
       "      <td>5.0</td>\n",
       "      <td>1</td>\n",
       "      <td>1</td>\n",
       "      <td>0</td>\n",
       "      <td>0</td>\n",
       "      <td>0</td>\n",
       "      <td>0</td>\n",
       "      <td>1</td>\n",
       "    </tr>\n",
       "    <tr>\n",
       "      <th>3</th>\n",
       "      <td>Adrack Humble</td>\n",
       "      <td>House Greyjoy</td>\n",
       "      <td>300.0</td>\n",
       "      <td>5.0</td>\n",
       "      <td>20.0</td>\n",
       "      <td>20.0</td>\n",
       "      <td>1</td>\n",
       "      <td>1</td>\n",
       "      <td>0</td>\n",
       "      <td>0</td>\n",
       "      <td>0</td>\n",
       "      <td>0</td>\n",
       "      <td>1</td>\n",
       "    </tr>\n",
       "    <tr>\n",
       "      <th>4</th>\n",
       "      <td>Aemon Costayne</td>\n",
       "      <td>Lannister</td>\n",
       "      <td>NaN</td>\n",
       "      <td>NaN</td>\n",
       "      <td>NaN</td>\n",
       "      <td>NaN</td>\n",
       "      <td>1</td>\n",
       "      <td>1</td>\n",
       "      <td>0</td>\n",
       "      <td>0</td>\n",
       "      <td>1</td>\n",
       "      <td>0</td>\n",
       "      <td>0</td>\n",
       "    </tr>\n",
       "  </tbody>\n",
       "</table>\n",
       "</div>"
      ],
      "text/plain": [
       "                      Name      Allegiances  Death Year  Book of Death  \\\n",
       "0           Addam Marbrand        Lannister         NaN            NaN   \n",
       "1  Aegon Frey (Jinglebell)             None       299.0            3.0   \n",
       "2          Aegon Targaryen  House Targaryen         NaN            NaN   \n",
       "3            Adrack Humble    House Greyjoy       300.0            5.0   \n",
       "4           Aemon Costayne        Lannister         NaN            NaN   \n",
       "\n",
       "   Death Chapter  Book Intro Chapter  Gender  Nobility  GoT  CoK  SoS  FfC  \\\n",
       "0            NaN                56.0       1         1    1    1    1    1   \n",
       "1           51.0                49.0       1         1    0    0    1    0   \n",
       "2            NaN                 5.0       1         1    0    0    0    0   \n",
       "3           20.0                20.0       1         1    0    0    0    0   \n",
       "4            NaN                 NaN       1         1    0    0    1    0   \n",
       "\n",
       "   DwD  \n",
       "0    0  \n",
       "1    0  \n",
       "2    1  \n",
       "3    1  \n",
       "4    0  "
      ]
     },
     "execution_count": 4,
     "metadata": {},
     "output_type": "execute_result"
    }
   ],
   "source": [
    "df2 = pd.read_csv('../data/GOT-character-deaths.csv')\n",
    "df2.head()"
   ]
  },
  {
   "cell_type": "code",
   "execution_count": 5,
   "metadata": {},
   "outputs": [
    {
     "data": {
      "text/html": [
       "<div>\n",
       "<style scoped>\n",
       "    .dataframe tbody tr th:only-of-type {\n",
       "        vertical-align: middle;\n",
       "    }\n",
       "\n",
       "    .dataframe tbody tr th {\n",
       "        vertical-align: top;\n",
       "    }\n",
       "\n",
       "    .dataframe thead th {\n",
       "        text-align: right;\n",
       "    }\n",
       "</style>\n",
       "<table border=\"1\" class=\"dataframe\">\n",
       "  <thead>\n",
       "    <tr style=\"text-align: right;\">\n",
       "      <th></th>\n",
       "      <th>Name</th>\n",
       "      <th>Allegiances</th>\n",
       "      <th>Death Year</th>\n",
       "      <th>Book of Death</th>\n",
       "      <th>Death Chapter</th>\n",
       "      <th>Book Intro Chapter</th>\n",
       "      <th>Gender</th>\n",
       "      <th>Nobility</th>\n",
       "      <th>GoT</th>\n",
       "      <th>CoK</th>\n",
       "      <th>SoS</th>\n",
       "      <th>FfC</th>\n",
       "      <th>DwD</th>\n",
       "    </tr>\n",
       "  </thead>\n",
       "  <tbody>\n",
       "    <tr>\n",
       "      <th>912</th>\n",
       "      <td>Zollo</td>\n",
       "      <td>None</td>\n",
       "      <td>NaN</td>\n",
       "      <td>NaN</td>\n",
       "      <td>NaN</td>\n",
       "      <td>21.0</td>\n",
       "      <td>1</td>\n",
       "      <td>0</td>\n",
       "      <td>0</td>\n",
       "      <td>0</td>\n",
       "      <td>1</td>\n",
       "      <td>0</td>\n",
       "      <td>0</td>\n",
       "    </tr>\n",
       "    <tr>\n",
       "      <th>913</th>\n",
       "      <td>Yurkhaz zo Yunzak</td>\n",
       "      <td>None</td>\n",
       "      <td>300.0</td>\n",
       "      <td>5.0</td>\n",
       "      <td>59.0</td>\n",
       "      <td>47.0</td>\n",
       "      <td>1</td>\n",
       "      <td>0</td>\n",
       "      <td>0</td>\n",
       "      <td>0</td>\n",
       "      <td>0</td>\n",
       "      <td>0</td>\n",
       "      <td>1</td>\n",
       "    </tr>\n",
       "    <tr>\n",
       "      <th>914</th>\n",
       "      <td>Yezzan Zo Qaggaz</td>\n",
       "      <td>None</td>\n",
       "      <td>300.0</td>\n",
       "      <td>5.0</td>\n",
       "      <td>57.0</td>\n",
       "      <td>25.0</td>\n",
       "      <td>1</td>\n",
       "      <td>1</td>\n",
       "      <td>0</td>\n",
       "      <td>0</td>\n",
       "      <td>0</td>\n",
       "      <td>0</td>\n",
       "      <td>1</td>\n",
       "    </tr>\n",
       "    <tr>\n",
       "      <th>915</th>\n",
       "      <td>Torwynd the Tame</td>\n",
       "      <td>Wildling</td>\n",
       "      <td>300.0</td>\n",
       "      <td>5.0</td>\n",
       "      <td>73.0</td>\n",
       "      <td>73.0</td>\n",
       "      <td>1</td>\n",
       "      <td>0</td>\n",
       "      <td>0</td>\n",
       "      <td>0</td>\n",
       "      <td>1</td>\n",
       "      <td>0</td>\n",
       "      <td>0</td>\n",
       "    </tr>\n",
       "    <tr>\n",
       "      <th>916</th>\n",
       "      <td>Talbert Serry</td>\n",
       "      <td>Tyrell</td>\n",
       "      <td>300.0</td>\n",
       "      <td>4.0</td>\n",
       "      <td>29.0</td>\n",
       "      <td>29.0</td>\n",
       "      <td>1</td>\n",
       "      <td>1</td>\n",
       "      <td>0</td>\n",
       "      <td>0</td>\n",
       "      <td>0</td>\n",
       "      <td>1</td>\n",
       "      <td>0</td>\n",
       "    </tr>\n",
       "  </tbody>\n",
       "</table>\n",
       "</div>"
      ],
      "text/plain": [
       "                  Name Allegiances  Death Year  Book of Death  Death Chapter  \\\n",
       "912              Zollo        None         NaN            NaN            NaN   \n",
       "913  Yurkhaz zo Yunzak        None       300.0            5.0           59.0   \n",
       "914   Yezzan Zo Qaggaz        None       300.0            5.0           57.0   \n",
       "915   Torwynd the Tame    Wildling       300.0            5.0           73.0   \n",
       "916      Talbert Serry      Tyrell       300.0            4.0           29.0   \n",
       "\n",
       "     Book Intro Chapter  Gender  Nobility  GoT  CoK  SoS  FfC  DwD  \n",
       "912                21.0       1         0    0    0    1    0    0  \n",
       "913                47.0       1         0    0    0    0    0    1  \n",
       "914                25.0       1         1    0    0    0    0    1  \n",
       "915                73.0       1         0    0    0    1    0    0  \n",
       "916                29.0       1         1    0    0    0    1    0  "
      ]
     },
     "execution_count": 5,
     "metadata": {},
     "output_type": "execute_result"
    }
   ],
   "source": [
    "df2.tail()"
   ]
  },
  {
   "cell_type": "markdown",
   "metadata": {},
   "source": [
    "## Saving processed data frames"
   ]
  },
  {
   "cell_type": "markdown",
   "metadata": {},
   "source": [
    "###  To CSV File"
   ]
  },
  {
   "cell_type": "code",
   "execution_count": 6,
   "metadata": {},
   "outputs": [],
   "source": [
    "# Uncomment the following line to know how to save DataFrame as CSV\n",
    "\n",
    "#df2.to_csv('../data/DataFrame_To_CSV_Result.csv')"
   ]
  },
  {
   "cell_type": "markdown",
   "metadata": {},
   "source": [
    "## Pandas - Operations"
   ]
  },
  {
   "cell_type": "markdown",
   "metadata": {},
   "source": [
    "### Creating index for entities..."
   ]
  },
  {
   "cell_type": "code",
   "execution_count": 7,
   "metadata": {},
   "outputs": [
    {
     "name": "stdout",
     "output_type": "stream",
     "text": [
      "                      Name      Allegiances  Death Year  Book of Death  \\\n",
      "0           Addam Marbrand        Lannister         NaN            NaN   \n",
      "1  Aegon Frey (Jinglebell)             None       299.0            3.0   \n",
      "2          Aegon Targaryen  House Targaryen         NaN            NaN   \n",
      "3            Adrack Humble    House Greyjoy       300.0            5.0   \n",
      "4           Aemon Costayne        Lannister         NaN            NaN   \n",
      "\n",
      "   Death Chapter  Book Intro Chapter  Gender  Nobility  GoT  CoK  SoS  FfC  \\\n",
      "0            NaN                56.0       1         1    1    1    1    1   \n",
      "1           51.0                49.0       1         1    0    0    1    0   \n",
      "2            NaN                 5.0       1         1    0    0    0    0   \n",
      "3           20.0                20.0       1         1    0    0    0    0   \n",
      "4            NaN                 NaN       1         1    0    0    1    0   \n",
      "\n",
      "   DwD  \n",
      "0    0  \n",
      "1    0  \n",
      "2    1  \n",
      "3    1  \n",
      "4    0  \n"
     ]
    }
   ],
   "source": [
    "#df2.set_index(\"Gender\",inplace=True)\n",
    "print(df2.head(5))"
   ]
  },
  {
   "cell_type": "markdown",
   "metadata": {},
   "source": [
    "### Type and information about dataframe"
   ]
  },
  {
   "cell_type": "code",
   "execution_count": 8,
   "metadata": {},
   "outputs": [
    {
     "name": "stdout",
     "output_type": "stream",
     "text": [
      "Type:\n",
      " <class 'pandas.core.frame.DataFrame'>\n",
      "Information about the dataframe: <bound method DataFrame.info of                                   Name      Allegiances  Death Year  \\\n",
      "0                       Addam Marbrand        Lannister         NaN   \n",
      "1              Aegon Frey (Jinglebell)             None       299.0   \n",
      "2                      Aegon Targaryen  House Targaryen         NaN   \n",
      "3                        Adrack Humble    House Greyjoy       300.0   \n",
      "4                       Aemon Costayne        Lannister         NaN   \n",
      "5                      Aemon Estermont        Baratheon         NaN   \n",
      "6    Aemon Targaryen (son of Maekar I)    Night's Watch       300.0   \n",
      "7                           Aenys Frey             None       300.0   \n",
      "8                        Aeron Greyjoy    House Greyjoy         NaN   \n",
      "9                               Aethan    Night's Watch         NaN   \n",
      "10                               Aggar    House Greyjoy       299.0   \n",
      "11                                Aggo  House Targaryen         NaN   \n",
      "12                       Alan of Rosby    Night's Watch       300.0   \n",
      "13                             Alayaya             None         NaN   \n",
      "14                         Albar Royce            Arryn         NaN   \n",
      "15                              Albett    Night's Watch         NaN   \n",
      "16                            Alebelly      House Stark       299.0   \n",
      "17                    Alerie Hightower     House Tyrell         NaN   \n",
      "18                  Alesander Staedmon        Baratheon         NaN   \n",
      "19                     Alester Florent        Baratheon       300.0   \n",
      "20                     Alia of Braavos             None         NaN   \n",
      "21                         Alla Tyrell     House Tyrell         NaN   \n",
      "22                     Allard Seaworth        Baratheon       299.0   \n",
      "23                      Alliser Thorne    Night's Watch         NaN   \n",
      "24                                Alyn      House Stark       298.0   \n",
      "25                        Alyn Ambrose           Tyrell         NaN   \n",
      "26                      Alyn Estermont        Baratheon         NaN   \n",
      "27                     Alyn Stackspear        Lannister         NaN   \n",
      "28                       Alys Karstark            Stark         NaN   \n",
      "29                     Alysane Mormont            Stark         NaN   \n",
      "..                                 ...              ...         ...   \n",
      "887                             Willit        Lannister         NaN   \n",
      "888                   Willow Witch-eye         Wildling       300.0   \n",
      "889                             Willum            Tully         NaN   \n",
      "890                               Woth    Night's Watch       299.0   \n",
      "891                              Wulfe    House Greyjoy         NaN   \n",
      "892                Wun Weg Wun Dar Wun         Wildling         NaN   \n",
      "893                        Wyl (guard)      House Stark       298.0   \n",
      "894                   Wyl the Whittler             None       299.0   \n",
      "895                     Wylis Manderly            Stark         NaN   \n",
      "896                     Wylla Manderly            Stark         NaN   \n",
      "897                     Wyman Manderly            Stark         NaN   \n",
      "898                  Wynafryd Manderly            Stark         NaN   \n",
      "899                       Wynton Stout    Night's Watch         NaN   \n",
      "900                   Xaro Xhoan Daxos             None         NaN   \n",
      "901                             Xhondo             None         NaN   \n",
      "902                             Yandry  House Targaryen         NaN   \n",
      "903                        Yellow Dick             None       300.0   \n",
      "904                       Ygon Farwynd          Greyjoy         NaN   \n",
      "905                            Ygritte         Wildling       299.0   \n",
      "906                       Yohn Farwynd          Greyjoy         NaN   \n",
      "907                         Yohn Royce            Arryn         NaN   \n",
      "908                              Yoren    Night's Watch       299.0   \n",
      "909                        Young Henly    Night's Watch       299.0   \n",
      "910                             Ysilla  House Targaryen         NaN   \n",
      "911                                Zei            Stark         NaN   \n",
      "912                              Zollo             None         NaN   \n",
      "913                  Yurkhaz zo Yunzak             None       300.0   \n",
      "914                   Yezzan Zo Qaggaz             None       300.0   \n",
      "915                   Torwynd the Tame         Wildling       300.0   \n",
      "916                      Talbert Serry           Tyrell       300.0   \n",
      "\n",
      "     Book of Death  Death Chapter  Book Intro Chapter  Gender  Nobility  GoT  \\\n",
      "0              NaN            NaN                56.0       1         1    1   \n",
      "1              3.0           51.0                49.0       1         1    0   \n",
      "2              NaN            NaN                 5.0       1         1    0   \n",
      "3              5.0           20.0                20.0       1         1    0   \n",
      "4              NaN            NaN                 NaN       1         1    0   \n",
      "5              NaN            NaN                 NaN       1         1    0   \n",
      "6              4.0           35.0                21.0       1         1    1   \n",
      "7              5.0            NaN                59.0       0         1    1   \n",
      "8              NaN            NaN                11.0       1         1    0   \n",
      "9              NaN            NaN                 0.0       1         0    0   \n",
      "10             2.0           56.0                50.0       1         0    0   \n",
      "11             NaN            NaN                54.0       1         0    1   \n",
      "12             5.0            4.0                18.0       1         1    0   \n",
      "13             NaN            NaN                15.0       0         0    0   \n",
      "14             NaN            NaN                38.0       1         1    1   \n",
      "15             NaN            NaN                26.0       1         0    1   \n",
      "16             2.0           46.0                 4.0       1         0    0   \n",
      "17             NaN            NaN                 6.0       0         1    0   \n",
      "18             NaN            NaN                65.0       1         1    0   \n",
      "19             4.0            NaN                36.0       1         1    0   \n",
      "20             NaN            NaN                28.0       0         0    1   \n",
      "21             NaN            NaN                 6.0       0         1    0   \n",
      "22             2.0           10.0                10.0       1         1    0   \n",
      "23             NaN            NaN                19.0       1         0    1   \n",
      "24             3.0           34.0                12.0       1         0    1   \n",
      "25             NaN            NaN                59.0       1         1    0   \n",
      "26             NaN            NaN                 NaN       1         1    0   \n",
      "27             NaN            NaN                16.0       1         1    0   \n",
      "28             NaN            NaN                44.0       0         1    0   \n",
      "29             NaN            NaN                35.0       0         1    0   \n",
      "..             ...            ...                 ...     ...       ...  ...   \n",
      "887            NaN            NaN                65.0       1         0    0   \n",
      "888            5.0           69.0                37.0       0         0    0   \n",
      "889            NaN            NaN                43.0       1         0    1   \n",
      "890            2.0           14.0                14.0       1         0    0   \n",
      "891            NaN            NaN                29.0       1         0    0   \n",
      "892            NaN            NaN                35.0       1         0    0   \n",
      "893            1.0           35.0                35.0       1         0    1   \n",
      "894            3.0           34.0                34.0       1         0    0   \n",
      "895            NaN            NaN                55.0       1         1    1   \n",
      "896            NaN            NaN                19.0       0         1    0   \n",
      "897            NaN            NaN                16.0       1         1    0   \n",
      "898            NaN            NaN                19.0       1         1    0   \n",
      "899            NaN            NaN                41.0       1         0    0   \n",
      "900            NaN            NaN                12.0       1         1    0   \n",
      "901            NaN            NaN                26.0       1         0    0   \n",
      "902            NaN            NaN                 8.0       1         0    0   \n",
      "903            5.0           46.0                12.0       1         0    0   \n",
      "904            NaN            NaN                19.0       1         1    0   \n",
      "905            3.0           55.0                51.0       0         0    0   \n",
      "906            NaN            NaN                19.0       1         1    0   \n",
      "907            NaN            NaN                29.0       1         1    1   \n",
      "908            2.0           19.0                13.0       1         0    1   \n",
      "909            3.0           55.0                55.0       1         0    0   \n",
      "910            NaN            NaN                 8.0       1         0    0   \n",
      "911            NaN            NaN                64.0       0         0    0   \n",
      "912            NaN            NaN                21.0       1         0    0   \n",
      "913            5.0           59.0                47.0       1         0    0   \n",
      "914            5.0           57.0                25.0       1         1    0   \n",
      "915            5.0           73.0                73.0       1         0    0   \n",
      "916            4.0           29.0                29.0       1         1    0   \n",
      "\n",
      "     CoK  SoS  FfC  DwD  \n",
      "0      1    1    1    0  \n",
      "1      0    1    0    0  \n",
      "2      0    0    0    1  \n",
      "3      0    0    0    1  \n",
      "4      0    1    0    0  \n",
      "5      1    1    0    0  \n",
      "6      0    1    1    0  \n",
      "7      1    1    0    1  \n",
      "8      1    0    1    0  \n",
      "9      0    1    0    0  \n",
      "10     1    0    0    0  \n",
      "11     1    1    0    1  \n",
      "12     1    1    0    1  \n",
      "13     1    0    0    0  \n",
      "14     0    0    1    0  \n",
      "15     0    0    0    0  \n",
      "16     1    0    0    0  \n",
      "17     0    1    1    0  \n",
      "18     1    0    0    0  \n",
      "19     1    1    0    0  \n",
      "20     0    0    0    0  \n",
      "21     0    1    1    0  \n",
      "22     1    0    0    0  \n",
      "23     1    1    0    1  \n",
      "24     0    0    0    0  \n",
      "25     1    0    1    0  \n",
      "26     1    1    0    0  \n",
      "27     0    0    1    0  \n",
      "28     0    0    0    1  \n",
      "29     0    0    0    1  \n",
      "..   ...  ...  ...  ...  \n",
      "887    1    0    0    0  \n",
      "888    0    0    0    1  \n",
      "889    0    0    0    0  \n",
      "890    1    0    0    0  \n",
      "891    0    0    1    1  \n",
      "892    0    0    0    1  \n",
      "893    0    0    0    0  \n",
      "894    0    1    0    0  \n",
      "895    1    0    1    0  \n",
      "896    0    0    0    1  \n",
      "897    1    0    0    1  \n",
      "898    0    0    0    1  \n",
      "899    0    1    0    0  \n",
      "900    1    0    0    1  \n",
      "901    0    0    1    0  \n",
      "902    0    0    0    1  \n",
      "903    0    0    0    1  \n",
      "904    0    0    1    0  \n",
      "905    1    1    0    0  \n",
      "906    0    0    1    0  \n",
      "907    0    0    1    0  \n",
      "908    1    0    0    0  \n",
      "909    0    1    0    0  \n",
      "910    0    0    0    1  \n",
      "911    0    1    0    0  \n",
      "912    0    1    0    0  \n",
      "913    0    0    0    1  \n",
      "914    0    0    0    1  \n",
      "915    0    1    0    0  \n",
      "916    0    0    1    0  \n",
      "\n",
      "[917 rows x 13 columns]>\n"
     ]
    }
   ],
   "source": [
    "print(\"Type:\\n\",type(df2))\n",
    "print(\"Information about the dataframe:\",df2.info)"
   ]
  },
  {
   "cell_type": "code",
   "execution_count": 9,
   "metadata": {},
   "outputs": [
    {
     "name": "stdout",
     "output_type": "stream",
     "text": [
      "Shape of datafframe: (917, 13)\n",
      "(917, 13)\n"
     ]
    }
   ],
   "source": [
    "print(\"Shape of datafframe:\",df2.shape)\n",
    "df2.drop_duplicates()\n",
    "print(df2.shape)"
   ]
  },
  {
   "cell_type": "code",
   "execution_count": 10,
   "metadata": {},
   "outputs": [
    {
     "name": "stdout",
     "output_type": "stream",
     "text": [
      "Columns of dataframe:\t Index(['Name', 'Allegiances', 'Death Year', 'Book of Death', 'Death Chapter',\n",
      "       'Book Intro Chapter', 'Gender', 'Nobility', 'GoT', 'CoK', 'SoS', 'FfC',\n",
      "       'DwD'],\n",
      "      dtype='object')\n"
     ]
    }
   ],
   "source": [
    "print(\"Columns of dataframe:\\t\",df2.columns)"
   ]
  },
  {
   "cell_type": "code",
   "execution_count": 11,
   "metadata": {},
   "outputs": [
    {
     "name": "stdout",
     "output_type": "stream",
     "text": [
      "Columns of dataframe:\t Index(['Name', 'Allegiances', 'Death Year', 'BoD', 'Death Chapter',\n",
      "       'Book Intro Chapter', 'Gender', 'Nobility', 'GoT', 'CoK', 'SoS', 'FfC',\n",
      "       'DwD'],\n",
      "      dtype='object')\n"
     ]
    }
   ],
   "source": [
    "df2.rename(columns={'Book of Death':'BoD'},inplace=True)\n",
    "print(\"Columns of dataframe:\\t\",df2.columns)"
   ]
  },
  {
   "cell_type": "code",
   "execution_count": 12,
   "metadata": {},
   "outputs": [
    {
     "name": "stdout",
     "output_type": "stream",
     "text": [
      "       Death Year         BoD  Death Chapter  Book Intro Chapter      Gender  \\\n",
      "count  305.000000  307.000000     299.000000          905.000000  917.000000   \n",
      "mean   299.157377    2.928339      40.070234           28.861878    0.828790   \n",
      "std      0.703483    1.326482      20.470270           20.165788    0.376898   \n",
      "min    297.000000    1.000000       0.000000            0.000000    0.000000   \n",
      "25%    299.000000    2.000000      25.500000           11.000000    1.000000   \n",
      "50%    299.000000    3.000000      39.000000           27.000000    1.000000   \n",
      "75%    300.000000    4.000000      57.000000           43.000000    1.000000   \n",
      "max    300.000000    5.000000      80.000000           80.000000    1.000000   \n",
      "\n",
      "         Nobility         GoT         CoK         SoS         FfC         DwD  \n",
      "count  917.000000  917.000000  917.000000  917.000000  917.000000  917.000000  \n",
      "mean     0.468920    0.272628    0.353326    0.424209    0.272628    0.284624  \n",
      "std      0.499305    0.445554    0.478264    0.494492    0.445554    0.451481  \n",
      "min      0.000000    0.000000    0.000000    0.000000    0.000000    0.000000  \n",
      "25%      0.000000    0.000000    0.000000    0.000000    0.000000    0.000000  \n",
      "50%      0.000000    0.000000    0.000000    0.000000    0.000000    0.000000  \n",
      "75%      1.000000    1.000000    1.000000    1.000000    1.000000    1.000000  \n",
      "max      1.000000    1.000000    1.000000    1.000000    1.000000    1.000000  \n"
     ]
    }
   ],
   "source": [
    "print(df2.describe())"
   ]
  },
  {
   "cell_type": "code",
   "execution_count": 13,
   "metadata": {},
   "outputs": [
    {
     "name": "stdout",
     "output_type": "stream",
     "text": [
      "No. of chapters talking about death:\t 299\n",
      "No. of unique chapters talking about death:\t 71\n",
      "Unique chapters talking about death:\t [nan 51. 20. 35. 56.  4. 46. 10. 34. 47. 41. 21. 33. 39. 52. 37. 24. 31.\n",
      " 27. 62. 65.  7. 49. 50. 42. 30. 66. 64. 29.  0. 53. 58. 76. 63. 55. 14.\n",
      " 61. 12. 68. 69. 80. 36.  1. 19. 72. 59. 43. 70. 75. 11.  3. 60. 26. 44.\n",
      " 67. 45. 18. 23. 57. 25. 16. 17. 48.  9.  2.  6. 32. 77. 74. 40. 38. 73.]\n"
     ]
    }
   ],
   "source": [
    "print(\"No. of chapters talking about death:\\t\",df2['Death Chapter'].count())\n",
    "print(\"No. of unique chapters talking about death:\\t\",df2['Death Chapter'].nunique())\n",
    "print(\"Unique chapters talking about death:\\t\",df2['Death Chapter'].unique())"
   ]
  },
  {
   "cell_type": "markdown",
   "metadata": {},
   "source": [
    "## Accessing using Index - .iloc\n",
    "\n",
    "#### Argument can be,\n",
    "\n",
    "* integer -> 3\n",
    "* list of integers -> [3,5,7,8]\n",
    "* slice objects -> 0:9\n",
    "\n",
    "Eg:\n",
    "\n",
    "* data-frame**.iloc[4]**                    -> Gets row 4\n",
    "* data-frame**.iloc[[2,3,4,5], [2,4]]**     -> Gets rows 2,3,4,5 with columns 2 and 4\n",
    "* data-frame**.iloc[:5, 1:3]**              -> Gets rows 0 to 4 with columns 1 to 2\n",
    "\n",
    "*Note - if slice is a:b, then a is included, b is excluded*"
   ]
  },
  {
   "cell_type": "code",
   "execution_count": 14,
   "metadata": {},
   "outputs": [
    {
     "name": "stdout",
     "output_type": "stream",
     "text": [
      "First five values of 'Allegiances' column\t:\n",
      " 0             Addam Marbrand\n",
      "1    Aegon Frey (Jinglebell)\n",
      "2            Aegon Targaryen\n",
      "3              Adrack Humble\n",
      "4             Aemon Costayne\n",
      "Name: Name, dtype: object\n"
     ]
    }
   ],
   "source": [
    "print(\"First five values of 'Allegiances' column\\t:\\n\",df2.iloc[0:5,0])"
   ]
  },
  {
   "cell_type": "markdown",
   "metadata": {},
   "source": [
    "## Accessing using location - .loc[ ]\n"
   ]
  },
  {
   "cell_type": "code",
   "execution_count": 15,
   "metadata": {},
   "outputs": [
    {
     "name": "stdout",
     "output_type": "stream",
     "text": [
      "                             Allegiances  Death Year  BoD  Death Chapter  \\\n",
      "Name                                                                       \n",
      "Addam Marbrand                 Lannister         NaN  NaN            NaN   \n",
      "Aegon Frey (Jinglebell)             None       299.0  3.0           51.0   \n",
      "Aegon Targaryen          House Targaryen         NaN  NaN            NaN   \n",
      "Adrack Humble              House Greyjoy       300.0  5.0           20.0   \n",
      "Aemon Costayne                 Lannister         NaN  NaN            NaN   \n",
      "\n",
      "                         Book Intro Chapter  Gender  Nobility  GoT  CoK  SoS  \\\n",
      "Name                                                                           \n",
      "Addam Marbrand                         56.0       1         1    1    1    1   \n",
      "Aegon Frey (Jinglebell)                49.0       1         1    0    0    1   \n",
      "Aegon Targaryen                         5.0       1         1    0    0    0   \n",
      "Adrack Humble                          20.0       1         1    0    0    0   \n",
      "Aemon Costayne                          NaN       1         1    0    0    1   \n",
      "\n",
      "                         FfC  DwD  \n",
      "Name                               \n",
      "Addam Marbrand             1    0  \n",
      "Aegon Frey (Jinglebell)    0    0  \n",
      "Aegon Targaryen            0    1  \n",
      "Adrack Humble              0    1  \n",
      "Aemon Costayne             0    0  \n",
      "\n",
      "\n",
      "Using loc method:\t 300.0\n"
     ]
    }
   ],
   "source": [
    "#print(df2.head())\n",
    "df2.set_index('Name',inplace=True)\n",
    "print(df2.head())\n",
    "print(\"\\n\\nUsing loc method:\\t\",df2.loc['Adrack Humble','Death Year'])"
   ]
  },
  {
   "cell_type": "markdown",
   "metadata": {
    "collapsed": true
   },
   "source": [
    "## Creating subsets using relational operators\n"
   ]
  },
  {
   "cell_type": "code",
   "execution_count": 16,
   "metadata": {},
   "outputs": [
    {
     "name": "stdout",
     "output_type": "stream",
     "text": [
      "                                       Allegiances  Death Year  BoD  \\\n",
      "Name                                                                  \n",
      "Aegon Frey (Jinglebell)                       None       299.0  3.0   \n",
      "Adrack Humble                        House Greyjoy       300.0  5.0   \n",
      "Aemon Targaryen (son of Maekar I)    Night's Watch       300.0  4.0   \n",
      "Aenys Frey                                    None       300.0  5.0   \n",
      "Aggar                                House Greyjoy       299.0  2.0   \n",
      "Alan of Rosby                        Night's Watch       300.0  5.0   \n",
      "Alebelly                               House Stark       299.0  2.0   \n",
      "Alester Florent                          Baratheon       300.0  4.0   \n",
      "Allard Seaworth                          Baratheon       299.0  2.0   \n",
      "Alyn                                   House Stark       298.0  3.0   \n",
      "Amory Lorch                        House Lannister       299.0  2.0   \n",
      "Anvil Ryn                                     None       299.0  3.0   \n",
      "Aron Santagar                            Lannister       299.0  2.0   \n",
      "Arys Oakheart                            Lannister       300.0  4.0   \n",
      "Bannen                               Night's Watch       299.0  3.0   \n",
      "Barra                                         None       299.0  2.0   \n",
      "Barsena                                       None       300.0  5.0   \n",
      "Becca the Baker                               None       299.0  3.0   \n",
      "Benfred Tallhart                             Stark       299.0  2.0   \n",
      "Benfrey Frey                                  None       299.0  5.0   \n",
      "Benjen Stark                         Night's Watch       298.0  1.0   \n",
      "Bennet                                        None       300.0  4.0   \n",
      "Beric Dondarrion                              None       300.0  4.0   \n",
      "Biter                                         None       300.0  4.0   \n",
      "Brown Bernarr                        Night's Watch       299.0  3.0   \n",
      "Bryan Fossoway                           Baratheon       299.0  2.0   \n",
      "Bryce Caron                              Baratheon       299.0  2.0   \n",
      "Bryen Farring                            Baratheon       300.0  5.0   \n",
      "Burton Crakehall                         Lannister       299.0  2.0   \n",
      "Byam Flint                           Night's Watch       299.0  3.0   \n",
      "...                                            ...         ...  ...   \n",
      "Ulf the Ill                          House Greyjoy       299.0  2.0   \n",
      "Urreg                                Night's Watch       299.0  2.0   \n",
      "Utt                                           None       299.0  3.0   \n",
      "Varamyr                                   Wildling       300.0  5.0   \n",
      "Vardis Egen                                  Arryn       298.0  1.0   \n",
      "Vargo Hoat                                    None       300.0  3.0   \n",
      "Vayon Poole                                  Stark       298.0  1.0   \n",
      "Viserys Targaryen                  House Targaryen       298.0  1.0   \n",
      "Wallen                                    Wildling       298.0  1.0   \n",
      "Watt                                 Night's Watch       299.0  3.0   \n",
      "Waymar Royce                         Night's Watch       297.0  1.0   \n",
      "Weese                                    Lannister       299.0  2.0   \n",
      "Wendel Manderly                              Stark       299.0  3.0   \n",
      "Werlag                               House Greyjoy       299.0  2.0   \n",
      "Wilbert                                      Stark       298.0  3.0   \n",
      "Will                                 Night's Watch       297.0  1.0   \n",
      "Willam Wells                               Martell       300.0  5.0   \n",
      "Willem Lannister                   House Lannister       299.0  3.0   \n",
      "Willow Witch-eye                          Wildling       300.0  5.0   \n",
      "Woth                                 Night's Watch       299.0  2.0   \n",
      "Wyl (guard)                            House Stark       298.0  1.0   \n",
      "Wyl the Whittler                              None       299.0  3.0   \n",
      "Yellow Dick                                   None       300.0  5.0   \n",
      "Ygritte                                   Wildling       299.0  3.0   \n",
      "Yoren                                Night's Watch       299.0  2.0   \n",
      "Young Henly                          Night's Watch       299.0  3.0   \n",
      "Yurkhaz zo Yunzak                             None       300.0  5.0   \n",
      "Yezzan Zo Qaggaz                              None       300.0  5.0   \n",
      "Torwynd the Tame                          Wildling       300.0  5.0   \n",
      "Talbert Serry                               Tyrell       300.0  4.0   \n",
      "\n",
      "                                   Death Chapter  Book Intro Chapter  Gender  \\\n",
      "Name                                                                           \n",
      "Aegon Frey (Jinglebell)                     51.0                49.0       1   \n",
      "Adrack Humble                               20.0                20.0       1   \n",
      "Aemon Targaryen (son of Maekar I)           35.0                21.0       1   \n",
      "Aenys Frey                                   NaN                59.0       0   \n",
      "Aggar                                       56.0                50.0       1   \n",
      "Alan of Rosby                                4.0                18.0       1   \n",
      "Alebelly                                    46.0                 4.0       1   \n",
      "Alester Florent                              NaN                36.0       1   \n",
      "Allard Seaworth                             10.0                10.0       1   \n",
      "Alyn                                        34.0                12.0       1   \n",
      "Amory Lorch                                 47.0                14.0       1   \n",
      "Anvil Ryn                                   34.0                34.0       1   \n",
      "Aron Santagar                               41.0                18.0       1   \n",
      "Arys Oakheart                               21.0                57.0       1   \n",
      "Bannen                                      33.0                 0.0       1   \n",
      "Barra                                       39.0                35.0       0   \n",
      "Barsena                                     52.0                11.0       0   \n",
      "Becca the Baker                             34.0                34.0       0   \n",
      "Benfred Tallhart                            37.0                16.0       1   \n",
      "Benfrey Frey                                51.0                51.0       1   \n",
      "Benjen Stark                                24.0                 5.0       1   \n",
      "Bennet                                      31.0                31.0       1   \n",
      "Beric Dondarrion                            27.0                42.0       1   \n",
      "Biter                                       37.0                 1.0       1   \n",
      "Brown Bernarr                               33.0                23.0       1   \n",
      "Bryan Fossoway                              62.0                42.0       1   \n",
      "Bryce Caron                                 65.0                29.0       1   \n",
      "Bryen Farring                               62.0                10.0       1   \n",
      "Burton Crakehall                             7.0                55.0       1   \n",
      "Byam Flint                                  33.0                33.0       1   \n",
      "...                                          ...                 ...     ...   \n",
      "Ulf the Ill                                 66.0                66.0       1   \n",
      "Urreg                                       19.0                14.0       1   \n",
      "Utt                                         39.0                30.0       1   \n",
      "Varamyr                                      0.0                15.0       1   \n",
      "Vardis Egen                                 40.0                34.0       1   \n",
      "Vargo Hoat                                  20.0                30.0       1   \n",
      "Vayon Poole                                 21.0                 7.0       1   \n",
      "Viserys Targaryen                           46.0                 3.0       1   \n",
      "Wallen                                      37.0                37.0       1   \n",
      "Watt                                        75.0                69.0       1   \n",
      "Waymar Royce                                 0.0                 0.0       1   \n",
      "Weese                                       38.0                26.0       1   \n",
      "Wendel Manderly                             51.0                55.0       1   \n",
      "Werlag                                      66.0                37.0       1   \n",
      "Wilbert                                     29.0                29.0       1   \n",
      "Will                                         0.0                 0.0       1   \n",
      "Willam Wells                                 6.0                 6.0       1   \n",
      "Willem Lannister                            20.0                19.0       1   \n",
      "Willow Witch-eye                            69.0                37.0       0   \n",
      "Woth                                        14.0                14.0       1   \n",
      "Wyl (guard)                                 35.0                35.0       1   \n",
      "Wyl the Whittler                            34.0                34.0       1   \n",
      "Yellow Dick                                 46.0                12.0       1   \n",
      "Ygritte                                     55.0                51.0       0   \n",
      "Yoren                                       19.0                13.0       1   \n",
      "Young Henly                                 55.0                55.0       1   \n",
      "Yurkhaz zo Yunzak                           59.0                47.0       1   \n",
      "Yezzan Zo Qaggaz                            57.0                25.0       1   \n",
      "Torwynd the Tame                            73.0                73.0       1   \n",
      "Talbert Serry                               29.0                29.0       1   \n",
      "\n",
      "                                   Nobility  GoT  CoK  SoS  FfC  DwD  \n",
      "Name                                                                  \n",
      "Aegon Frey (Jinglebell)                   1    0    0    1    0    0  \n",
      "Adrack Humble                             1    0    0    0    0    1  \n",
      "Aemon Targaryen (son of Maekar I)         1    1    0    1    1    0  \n",
      "Aenys Frey                                1    1    1    1    0    1  \n",
      "Aggar                                     0    0    1    0    0    0  \n",
      "Alan of Rosby                             1    0    1    1    0    1  \n",
      "Alebelly                                  0    0    1    0    0    0  \n",
      "Alester Florent                           1    0    1    1    0    0  \n",
      "Allard Seaworth                           1    0    1    0    0    0  \n",
      "Alyn                                      0    1    0    0    0    0  \n",
      "Amory Lorch                               1    0    1    0    0    0  \n",
      "Anvil Ryn                                 0    0    0    1    0    0  \n",
      "Aron Santagar                             1    1    1    0    0    0  \n",
      "Arys Oakheart                             1    1    1    0    1    0  \n",
      "Bannen                                    0    0    0    1    0    0  \n",
      "Barra                                     0    1    0    0    0    0  \n",
      "Barsena                                   0    0    0    0    0    1  \n",
      "Becca the Baker                           0    0    0    1    0    0  \n",
      "Benfred Tallhart                          1    0    1    0    0    0  \n",
      "Benfrey Frey                              1    0    0    1    0    0  \n",
      "Benjen Stark                              1    1    0    0    0    0  \n",
      "Bennet                                    0    0    0    0    1    0  \n",
      "Beric Dondarrion                          1    1    0    1    0    0  \n",
      "Biter                                     0    0    1    0    1    0  \n",
      "Brown Bernarr                             0    0    1    1    0    0  \n",
      "Bryan Fossoway                            1    1    1    0    0    0  \n",
      "Bryce Caron                               1    1    1    0    0    0  \n",
      "Bryen Farring                             1    0    1    0    0    1  \n",
      "Burton Crakehall                          1    1    1    0    0    0  \n",
      "Byam Flint                                0    0    0    1    0    0  \n",
      "...                                     ...  ...  ...  ...  ...  ...  \n",
      "Ulf the Ill                               0    0    1    0    0    0  \n",
      "Urreg                                     0    0    1    0    0    0  \n",
      "Utt                                       0    0    1    1    0    0  \n",
      "Varamyr                                   0    0    0    1    0    1  \n",
      "Vardis Egen                               0    1    0    0    0    0  \n",
      "Vargo Hoat                                0    0    1    1    0    0  \n",
      "Vayon Poole                               0    1    1    0    0    0  \n",
      "Viserys Targaryen                         1    1    0    0    0    0  \n",
      "Wallen                                    0    1    0    0    0    0  \n",
      "Watt                                      0    0    0    1    0    0  \n",
      "Waymar Royce                              1    1    0    0    0    0  \n",
      "Weese                                     0    0    1    0    0    0  \n",
      "Wendel Manderly                           1    1    1    1    0    0  \n",
      "Werlag                                    0    0    1    0    0    0  \n",
      "Wilbert                                   0    0    0    1    0    0  \n",
      "Will                                      0    1    0    0    0    0  \n",
      "Willam Wells                              0    0    0    0    0    1  \n",
      "Willem Lannister                          1    0    0    1    0    0  \n",
      "Willow Witch-eye                          0    0    0    0    0    1  \n",
      "Woth                                      0    0    1    0    0    0  \n",
      "Wyl (guard)                               0    1    0    0    0    0  \n",
      "Wyl the Whittler                          0    0    0    1    0    0  \n",
      "Yellow Dick                               0    0    0    0    0    1  \n",
      "Ygritte                                   0    0    1    1    0    0  \n",
      "Yoren                                     0    1    1    0    0    0  \n",
      "Young Henly                               0    0    0    1    0    0  \n",
      "Yurkhaz zo Yunzak                         0    0    0    0    0    1  \n",
      "Yezzan Zo Qaggaz                          1    0    0    0    0    1  \n",
      "Torwynd the Tame                          0    0    0    1    0    0  \n",
      "Talbert Serry                             1    0    0    0    1    0  \n",
      "\n",
      "[305 rows x 12 columns]\n"
     ]
    }
   ],
   "source": [
    "df3 = df2['Death Year']<400\n",
    "#print(df3)\n",
    "df4 = df2[df3]\n",
    "print(df4)"
   ]
  },
  {
   "cell_type": "markdown",
   "metadata": {},
   "source": [
    "## using groupby"
   ]
  },
  {
   "cell_type": "code",
   "execution_count": 17,
   "metadata": {},
   "outputs": [
    {
     "name": "stdout",
     "output_type": "stream",
     "text": [
      "            Allegiances  BoD  Death Chapter  Book Intro Chapter  Gender  \\\n",
      "Death Year                                                                \n",
      "297.0                 3    3              3                   3       3   \n",
      "298.0                46   46             46                  46      46   \n",
      "299.0               156  156            154                 154     156   \n",
      "300.0               100  100             92                  97     100   \n",
      "\n",
      "            Nobility  GoT  CoK  SoS  FfC  DwD  \n",
      "Death Year                                     \n",
      "297.0              3    3    3    3    3    3  \n",
      "298.0             46   46   46   46   46   46  \n",
      "299.0            156  156  156  156  156  156  \n",
      "300.0            100  100  100  100  100  100  \n"
     ]
    }
   ],
   "source": [
    "#print(df2['Death Year'].nunique)\n",
    "df5 = df2.groupby('Death Year').count()\n",
    "import numpy as np\n",
    "print(df5)"
   ]
  },
  {
   "cell_type": "code",
   "execution_count": 18,
   "metadata": {},
   "outputs": [
    {
     "name": "stdout",
     "output_type": "stream",
     "text": [
      "            Death Year  Gender\n",
      "Death Year                    \n",
      "297.0            891.0       3\n",
      "298.0          13708.0      43\n",
      "299.0          46644.0     141\n",
      "300.0          30000.0      82\n"
     ]
    }
   ],
   "source": [
    "#df = df.groupby(\"date\").agg({\"duration\": np.sum, \"user_id\": pd.Series.nunique})\n",
    "import numpy as np\n",
    "df5 = df2.groupby(\"Death Year\").agg({\"Death Year\":np.sum,\"Gender\":np.sum})\n",
    "print(df5)"
   ]
  },
  {
   "cell_type": "markdown",
   "metadata": {},
   "source": [
    "## Visualization\n",
    "\n",
    "* data-frame**.plot(x = 'x-column', y = 'y-column')** -> line plot by default\n",
    "* data-frame**.plot(x = 'x-column', y = 'y-column', kind = 'scatter')** -> scatter plot\n",
    "        arguements for kind - \n",
    "            ‘line’ : line plot (default)\n",
    "            ‘bar’ : vertical bar plot\n",
    "            ‘hist’ : histogram\n",
    "            ‘box’ : boxplot\n",
    "            ‘pie’ : pie plot\n",
    "            ‘scatter’ : scatter plot\n"
   ]
  },
  {
   "cell_type": "code",
   "execution_count": 20,
   "metadata": {},
   "outputs": [
    {
     "data": {
      "text/plain": [
       "<matplotlib.axes._subplots.AxesSubplot at 0x1b2149588d0>"
      ]
     },
     "execution_count": 20,
     "metadata": {},
     "output_type": "execute_result"
    },
    {
     "data": {
      "image/png": "[encoded data removed]",
      "text/plain": [
       "<Figure size 432x288 with 1 Axes>"
      ]
     },
     "metadata": {
      "needs_background": "light"
     },
     "output_type": "display_data"
    }
   ],
   "source": [
    "df5.plot(x='Death Year',y='Gender',kind='scatter')"
   ]
  }
 ],
 "metadata": {
  "kernelspec": {
   "display_name": "Python 3",
   "language": "python",
   "name": "python3"
  },
  "language_info": {
   "codemirror_mode": {
    "name": "ipython",
    "version": 3
   },
   "file_extension": ".py",
   "mimetype": "text/x-python",
   "name": "python",
   "nbconvert_exporter": "python",
   "pygments_lexer": "ipython3",
   "version": "3.7.3"
  }
 },
 "nbformat": 4,
 "nbformat_minor": 2
}
